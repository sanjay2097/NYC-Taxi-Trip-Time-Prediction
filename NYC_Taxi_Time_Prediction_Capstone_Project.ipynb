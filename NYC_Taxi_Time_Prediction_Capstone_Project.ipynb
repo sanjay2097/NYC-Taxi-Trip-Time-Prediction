{
  "cells": [
    {
      "cell_type": "markdown",
      "metadata": {
        "id": "view-in-github",
        "colab_type": "text"
      },
      "source": [
        "<a href=\"https://colab.research.google.com/github/sanjay2097/NYC-Taxi-Trip-Time-Prediction/blob/main/NYC_Taxi_Time_Prediction_Capstone_Project.ipynb\" target=\"_parent\"><img src=\"https://colab.research.google.com/assets/colab-badge.svg\" alt=\"Open In Colab\"/></a>"
      ]
    },
    {
      "cell_type": "markdown",
      "metadata": {
        "id": "WWeU1f9bwqQq"
      },
      "source": [
        "## <b> Data Description </b>\n",
        "\n",
        "### The dataset is based on the 2016 NYC Yellow Cab trip record data made available in Big Query on Google Cloud Platform. The data was originally published by the NYC Taxi and Limousine Commission (TLC). The data was sampled and cleaned for the purposes of this project. Based on individual trip attributes, you should predict the duration of each trip in the test set.\n",
        "\n",
        "### <b>NYC Taxi Data.csv</b> - the training set (contains 1458644 trip records)\n",
        "\n",
        "\n",
        "### Data fields\n",
        "* #### id - a unique identifier for each trip\n",
        "* #### vendor_id - a code indicating the provider associated with the trip record\n",
        "* #### pickup_datetime - date and time when the meter was engaged\n",
        "* #### dropoff_datetime - date and time when the meter was disengaged\n",
        "* #### passenger_count - the number of passengers in the vehicle (driver entered value)\n",
        "* #### pickup_longitude - the longitude where the meter was engaged\n",
        "* #### pickup_latitude - the latitude where the meter was engaged\n",
        "* #### dropoff_longitude - the longitude where the meter was disengaged\n",
        "* #### dropoff_latitude - the latitude where the meter was disengaged\n",
        "* #### store_and_fwd_flag - This flag indicates whether the trip record was held in vehicle memory before sending to the vendor because the vehicle did not have a connection to the server - Y=store and forward; N=not a store and forward trip\n",
        "* #### trip_duration - duration of the trip in seconds"
      ]
    },
    {
      "cell_type": "markdown",
      "metadata": {
        "id": "cVbm2OdFsuD4"
      },
      "source": [
        "## **STEPS** \n",
        "### 1. Data Analysis\n",
        "### 2. Feature Engineering\n",
        "### 3. Feature Selection\n",
        "### 4. Model Building\n",
        "### 5. Model Validation & Selection\n"
      ]
    },
    {
      "cell_type": "code",
      "execution_count": null,
      "metadata": {
        "id": "dByMsuzT8Tnw"
      },
      "outputs": [],
      "source": [
        "# Importing libraries\n",
        "import numpy as np\n",
        "import pandas as pd\n",
        "from numpy import math\n",
        "from datetime import datetime\n",
        "\n",
        "from sklearn.preprocessing import MinMaxScaler\n",
        "from sklearn.preprocessing import StandardScaler\n",
        "\n",
        "from sklearn.model_selection import train_test_split\n",
        "from sklearn.linear_model import LinearRegression\n",
        "from sklearn.linear_model import Ridge\n",
        "from sklearn.linear_model import Lasso\n",
        "from lightgbm import LGBMRegressor\n",
        "\n",
        "from sklearn.metrics import r2_score\n",
        "from sklearn.metrics import mean_squared_error\n",
        "\n",
        "\n",
        "from sklearn.model_selection import GridSearchCV\n",
        "from sklearn.model_selection import RandomizedSearchCV\n",
        "\n",
        "import seaborn as sns\n",
        "import folium\n",
        "import matplotlib.pyplot as plt\n",
        "%matplotlib inline\n",
        "\n",
        "import warnings\n",
        "warnings.filterwarnings(\"ignore\")"
      ]
    },
    {
      "cell_type": "markdown",
      "metadata": {
        "id": "9ooYWrlltJv5"
      },
      "source": [
        "### DATA ANALYSIS"
      ]
    },
    {
      "cell_type": "code",
      "execution_count": null,
      "metadata": {
        "colab": {
          "base_uri": "https://localhost:8080/"
        },
        "id": "rpLwawRhUwt1",
        "outputId": "4b07f845-524e-4ec6-b624-46b1fe8cc6e3"
      },
      "outputs": [
        {
          "output_type": "stream",
          "name": "stdout",
          "text": [
            "Mounted at /content/drive\n"
          ]
        }
      ],
      "source": [
        "# Mount drive\n",
        "from google.colab import drive\n",
        "drive.mount('/content/drive')"
      ]
    },
    {
      "cell_type": "code",
      "execution_count": null,
      "metadata": {
        "id": "2e49pgj-UuUq"
      },
      "outputs": [],
      "source": [
        "# Loading Data\n",
        "dataset = pd.read_csv('/content/drive/MyDrive/Colab Notebooks/NYC Taxi Data.csv')"
      ]
    },
    {
      "cell_type": "code",
      "execution_count": null,
      "metadata": {
        "id": "kE9590PcUuSs"
      },
      "outputs": [],
      "source": [
        "dataset.head()"
      ]
    },
    {
      "cell_type": "code",
      "execution_count": null,
      "metadata": {
        "id": "O8XZCt2pkHvV",
        "colab": {
          "base_uri": "https://localhost:8080/"
        },
        "outputId": "2811506e-55c7-4a6a-de20-20bd1778a939"
      },
      "outputs": [
        {
          "output_type": "execute_result",
          "data": {
            "text/plain": [
              "(1458644, 11)"
            ]
          },
          "metadata": {},
          "execution_count": 5
        }
      ],
      "source": [
        "dataset.shape"
      ]
    },
    {
      "cell_type": "markdown",
      "source": [
        "There are approx 1.46 million records in our dataset."
      ],
      "metadata": {
        "id": "_gXtryvLvoT3"
      }
    },
    {
      "cell_type": "code",
      "execution_count": null,
      "metadata": {
        "id": "TWo6pguitWFS"
      },
      "outputs": [],
      "source": [
        "dataset.describe()"
      ]
    },
    {
      "cell_type": "markdown",
      "source": [
        "From preliminary analysis using describe function we can see that there are anomalous values in passenger count and trip_duration that needs to be addressed later."
      ],
      "metadata": {
        "id": "Fzoia23oFOZy"
      }
    },
    {
      "cell_type": "code",
      "execution_count": null,
      "metadata": {
        "id": "CuKapoVPkYtM"
      },
      "outputs": [],
      "source": [
        "# Checking null values\n",
        "dataset.isnull().sum()"
      ]
    },
    {
      "cell_type": "code",
      "execution_count": null,
      "metadata": {
        "id": "S_jp3P5xkYmN",
        "colab": {
          "base_uri": "https://localhost:8080/"
        },
        "outputId": "2aa3dbec-515b-4fc2-e740-a2493462e4fd"
      },
      "outputs": [
        {
          "output_type": "execute_result",
          "data": {
            "text/plain": [
              "0"
            ]
          },
          "metadata": {},
          "execution_count": 8
        }
      ],
      "source": [
        "# Checking duplicated values\n",
        "dataset.duplicated().sum()"
      ]
    },
    {
      "cell_type": "markdown",
      "source": [
        "*There are no Null values and duplicated values in given dataset.*"
      ],
      "metadata": {
        "id": "gMdegtOh1bBk"
      }
    },
    {
      "cell_type": "code",
      "execution_count": null,
      "metadata": {
        "id": "7GvuDPfGTIrR"
      },
      "outputs": [],
      "source": [
        "# Copying data to new dataframe for further analysis\n",
        "df = dataset.copy()"
      ]
    },
    {
      "cell_type": "code",
      "source": [
        "# Lets look at the distribution plot of the features\n",
        "pos = 1\n",
        "fig = plt.figure(figsize=(18,26))\n",
        "for i in df.describe().columns:\n",
        "    ax = fig.add_subplot(6,2,pos)\n",
        "    pos = pos + 1\n",
        "    sns.distplot(df[i],ax=ax)"
      ],
      "metadata": {
        "id": "lFGJsk7PHDwT"
      },
      "execution_count": null,
      "outputs": []
    },
    {
      "cell_type": "markdown",
      "source": [
        "Inferences from distribution plot :\n",
        "\n",
        "1.There are two major vendors in NYC.\n",
        "\n",
        "2.Passenger count 1 has max distribution.\n",
        "\n",
        "3.Distribution of trip duration is highly skewed."
      ],
      "metadata": {
        "id": "Bwj9sAbOGVrz"
      }
    },
    {
      "cell_type": "markdown",
      "source": [
        "### Analysis of independent variables"
      ],
      "metadata": {
        "id": "1RV0Jrldt4_i"
      }
    },
    {
      "cell_type": "markdown",
      "source": [
        "#### Vendor ID"
      ],
      "metadata": {
        "id": "zsVzD1oq53tV"
      }
    },
    {
      "cell_type": "code",
      "execution_count": null,
      "metadata": {
        "id": "r0h-NG4nNual"
      },
      "outputs": [],
      "source": [
        "df['vendor_id'].value_counts().plot(kind='bar')\n",
        "plt.ylabel('Count')\n",
        "plt.xlabel('Vendor ID')"
      ]
    },
    {
      "cell_type": "markdown",
      "source": [
        "*Both the vendors seems to have almost equal market share. But Vendor 2 is evidently more famous among the population as per the above graph.*"
      ],
      "metadata": {
        "id": "YQvDxJ9awboK"
      }
    },
    {
      "cell_type": "markdown",
      "source": [
        "#### Datetime"
      ],
      "metadata": {
        "id": "ipBKvb95596T"
      }
    },
    {
      "cell_type": "code",
      "execution_count": null,
      "metadata": {
        "id": "NHxrqR8qShEH"
      },
      "outputs": [],
      "source": [
        "# Converting datetime datatype from object\n",
        "df['pickup_datetime'] = pd.to_datetime(df['pickup_datetime'])\n",
        "df['dropoff_datetime'] = pd.to_datetime(df['dropoff_datetime'])"
      ]
    },
    {
      "cell_type": "code",
      "execution_count": null,
      "metadata": {
        "id": "zHINnLbhUC_6"
      },
      "outputs": [],
      "source": [
        "# Adding new features month , day and hour from datetime\n",
        "df['hour'] = df['pickup_datetime'].dt.hour \n",
        "df['day'] = df.pickup_datetime.dt.day_name()\n",
        "df['month'] = df.pickup_datetime.dt.month_name()"
      ]
    },
    {
      "cell_type": "code",
      "execution_count": null,
      "metadata": {
        "id": "fWJ_9JcqUOcV"
      },
      "outputs": [],
      "source": [
        "# Analyzing month \n",
        "data=df['month']\n",
        "plt.figure(figsize=(8,5))\n",
        "sns.countplot(data, palette='rainbow')\n",
        "plt.show()"
      ]
    },
    {
      "cell_type": "markdown",
      "source": [
        "All the months are closely distributed with March being highest and January lowest."
      ],
      "metadata": {
        "id": "lZulBHBUIbHo"
      }
    },
    {
      "cell_type": "code",
      "execution_count": null,
      "metadata": {
        "id": "0MsqlxSo9eM5"
      },
      "outputs": [],
      "source": [
        "# Analyzing day\n",
        "data=df['day']\n",
        "plt.figure(figsize=(8,5))\n",
        "sns.countplot(data, palette='rainbow')\n",
        "plt.show()"
      ]
    },
    {
      "cell_type": "markdown",
      "source": [
        "We can see that Friday has the largest count of trips in dataset and Monday lowest."
      ],
      "metadata": {
        "id": "FxofzBzeIz-Z"
      }
    },
    {
      "cell_type": "code",
      "source": [
        "# Analyzing hour\n",
        "data=df['hour']\n",
        "plt.figure(figsize=(8,5))\n",
        "sns.countplot(data, palette='rainbow')\n",
        "plt.show()"
      ],
      "metadata": {
        "id": "3RY-dway7R8Y"
      },
      "execution_count": null,
      "outputs": []
    },
    {
      "cell_type": "markdown",
      "source": [
        "### Passanger Count"
      ],
      "metadata": {
        "id": "aA77aEtk9SHS"
      }
    },
    {
      "cell_type": "markdown",
      "source": [
        "Between 7 am to 3 pm the trip distributions are close to each other but increases from 5 pm to 10 pm and starts decreasing till 5 am."
      ],
      "metadata": {
        "id": "OQSHJqIZJGmL"
      }
    },
    {
      "cell_type": "code",
      "execution_count": null,
      "metadata": {
        "id": "0NKS77fcb1uk"
      },
      "outputs": [],
      "source": [
        "# Analyzing passanger count\n",
        "data=df['passenger_count']\n",
        "plt.figure(figsize=(8,5))\n",
        "sns.countplot(data, palette='rainbow')\n",
        "plt.show()"
      ]
    },
    {
      "cell_type": "markdown",
      "source": [
        "The passenger_count variable has a minimum value of 0 passengers. These observations are most likely errors and will need to be removed from the dataset.\n",
        "\n",
        "According to the NYC Taxi & Limousine Commission, the maximum number of people allowed in a yellow taxicab, by law, is 5 passengers and one child .The observations more than 6 are likely an error and will also need to be removed from the dataset."
      ],
      "metadata": {
        "id": "XelKEBLb9dhe"
      }
    },
    {
      "cell_type": "code",
      "execution_count": null,
      "metadata": {
        "id": "gGDhBtVWgwLx"
      },
      "outputs": [],
      "source": [
        "# Removing passenger count more than 6 \n",
        "df = df[(df['passenger_count']>0) & (df['passenger_count']<=6)]"
      ]
    },
    {
      "cell_type": "markdown",
      "source": [
        "###store_and_fwd_flag"
      ],
      "metadata": {
        "id": "4XJHkJAOSZ5N"
      }
    },
    {
      "cell_type": "code",
      "source": [
        "# analyzing trip data storing flag column\n",
        "df['store_and_fwd_flag'].value_counts()"
      ],
      "metadata": {
        "id": "mcP_BdsFSZUc"
      },
      "execution_count": null,
      "outputs": []
    },
    {
      "cell_type": "markdown",
      "source": [
        "Most of the trip records were not stored in vehicle memory before forwarding to the vendor because the vehicle did not have a direct connection to the server."
      ],
      "metadata": {
        "id": "oPDO1RwkSlFT"
      }
    },
    {
      "cell_type": "markdown",
      "source": [
        "#### Longitude and Latitude"
      ],
      "metadata": {
        "id": "xtj7zjvq9War"
      }
    },
    {
      "cell_type": "markdown",
      "source": [
        "Looking into it, the borders of NY City coordinates comes out to be:\n",
        "\n",
        "longitude = (-74.03, -73.77)  ,\n",
        "latitude = (40.63, 40.85)\n",
        "\n",
        "\n",
        "Any coordinates outside will be outliers."
      ],
      "metadata": {
        "id": "m2CLF5KleD43"
      }
    },
    {
      "cell_type": "code",
      "source": [
        "# Max and min values of lat and long in pickup and dropoff location\n",
        "print(np.min(df['pickup_longitude']), np.min(df['pickup_latitude']))\n",
        "print(np.max(df['pickup_longitude']), np.max(df['pickup_latitude']))\n",
        "\n",
        "print(np.min(df['dropoff_longitude']), np.min(df['dropoff_latitude']))\n",
        "print(np.max(df['dropoff_longitude']), np.max(df['dropoff_latitude']))"
      ],
      "metadata": {
        "id": "JyfO0DZXm6wq"
      },
      "execution_count": null,
      "outputs": []
    },
    {
      "cell_type": "code",
      "source": [
        "# Removing outlier coordinates\n",
        "west, south, east, north = -74.03, 40.63, -73.77, 40.85\n",
        "\n",
        "df = df[(df.pickup_latitude> south) & (df.pickup_latitude < north)]\n",
        "df = df[(df.dropoff_latitude> south) & (df.dropoff_latitude < north)]\n",
        "df = df[(df.pickup_longitude> west) & (df.pickup_longitude < east)]\n",
        "df = df[(df.dropoff_longitude> west) & (df.dropoff_longitude < east)]"
      ],
      "metadata": {
        "id": "QslfdY6CjUkC"
      },
      "execution_count": null,
      "outputs": []
    },
    {
      "cell_type": "code",
      "source": [
        "# Visualization of coordinates\n",
        "f, (ax1, ax2) = plt.subplots(1, 2, sharey=True,figsize=(18,10))\n",
        "\n",
        "df.plot(kind='scatter', x='pickup_longitude', y='pickup_latitude',\n",
        "                color='yellow', \n",
        "                s=.02, alpha=.6, subplots=True, ax=ax1)\n",
        "ax1.set_title(\"Pickups\")\n",
        "ax1.set_facecolor('black')\n",
        "\n",
        "df.plot(kind='scatter', x='dropoff_longitude', y='dropoff_latitude',\n",
        "                color='yellow', \n",
        "                s=.02, alpha=.6, subplots=True, ax=ax2)\n",
        "ax2.set_title(\"Dropoffs\")\n",
        "ax2.set_facecolor('black') "
      ],
      "metadata": {
        "id": "9gvA5KD_iXOy"
      },
      "execution_count": null,
      "outputs": []
    },
    {
      "cell_type": "code",
      "execution_count": null,
      "metadata": {
        "id": "BPLulvSNb1r9"
      },
      "outputs": [],
      "source": [
        "# Finding total diatance covered in each trip by making get_distance function\n",
        "from math import sin, cos, sqrt, atan2, radians\n",
        "\n",
        "def get_distance(lon_1, lon_2, lat_1, lat_2):\n",
        "\n",
        "    # approximate radius of earth in km\n",
        "    R = 6373.0\n",
        "\n",
        "    lat1 = radians(lat_1)\n",
        "    lon1 = radians(lon_1)\n",
        "    lat2 = radians(lat_2)\n",
        "    lon2 = radians(lon_2)\n",
        "\n",
        "    dlon = lon2 - lon1\n",
        "    dlat = lat2 - lat1\n",
        "\n",
        "    a = sin(dlat / 2)**2 + cos(lat1) * cos(lat2) * sin(dlon / 2)**2\n",
        "    c = 2 * atan2(sqrt(a), sqrt(1 - a))\n",
        "\n",
        "    distance = R * c\n",
        "\n",
        "    return distance"
      ]
    },
    {
      "cell_type": "code",
      "execution_count": null,
      "metadata": {
        "id": "Ognawyb3b1pO"
      },
      "outputs": [],
      "source": [
        "# Applying get_distance function to claculate each trip distance\n",
        "df[\"distance\"] = df.apply(lambda x: get_distance(x[\"pickup_longitude\"],x[\"dropoff_longitude\"],x[\"pickup_latitude\"],x[\"dropoff_latitude\"]),axis=1)"
      ]
    },
    {
      "cell_type": "markdown",
      "source": [
        "#### Distance"
      ],
      "metadata": {
        "id": "IhtmCGEmFutE"
      }
    },
    {
      "cell_type": "code",
      "source": [
        "df.distance.describe()"
      ],
      "metadata": {
        "id": "6f3TemvqKUlx",
        "colab": {
          "base_uri": "https://localhost:8080/"
        },
        "outputId": "26966976-3828-4060-845f-438c12339f9d"
      },
      "execution_count": null,
      "outputs": [
        {
          "output_type": "execute_result",
          "data": {
            "text/plain": [
              "count    1.438573e+06\n",
              "mean     3.292866e+00\n",
              "std      3.662317e+00\n",
              "min      0.000000e+00\n",
              "25%      1.224953e+00\n",
              "50%      2.068546e+00\n",
              "75%      3.767414e+00\n",
              "max      2.720017e+01\n",
              "Name: distance, dtype: float64"
            ]
          },
          "metadata": {},
          "execution_count": 87
        }
      ]
    },
    {
      "cell_type": "markdown",
      "source": [
        "We can see from describe function that there are trips where trip distance is zero which is not possible we need to drop these."
      ],
      "metadata": {
        "id": "3EOIqMQTCxyk"
      }
    },
    {
      "cell_type": "code",
      "source": [
        "# Boxplot of distance\n",
        "plt.figure(figsize = (12,5))\n",
        "sns.boxplot(df.distance)\n",
        "plt.show()"
      ],
      "metadata": {
        "id": "XnHxanO7UXqX"
      },
      "execution_count": null,
      "outputs": []
    },
    {
      "cell_type": "markdown",
      "source": [
        "During previous analysis of longitude and latitude columns we have limited all the trips within NY city only , hence all the outliers are actually part of extreme values and we have no further reason to remove them."
      ],
      "metadata": {
        "id": "QaKklRRZCSns"
      }
    },
    {
      "cell_type": "code",
      "source": [
        "# Total outlier values where value is 0\n",
        "len(df[df.distance==0])"
      ],
      "metadata": {
        "colab": {
          "base_uri": "https://localhost:8080/"
        },
        "id": "l3risNJ4Unr2",
        "outputId": "587ef936-781f-480f-b360-4f93ab03e4eb"
      },
      "execution_count": null,
      "outputs": [
        {
          "output_type": "execute_result",
          "data": {
            "text/plain": [
              "71929"
            ]
          },
          "metadata": {},
          "execution_count": 89
        }
      ]
    },
    {
      "cell_type": "code",
      "source": [
        "# Removing outliers \n",
        "df = df[df.distance>0]"
      ],
      "metadata": {
        "id": "cVbHgqQAUno5"
      },
      "execution_count": null,
      "outputs": []
    },
    {
      "cell_type": "code",
      "source": [
        "# Plotting distribution of trip distribution\n",
        "from scipy import stats\n",
        "from scipy.stats import norm, skew\n",
        "\n",
        "plt.rcParams[\"figure.figsize\"] = (12,6)\n",
        "sns.distplot(df['distance'] , fit=norm);\n",
        "\n",
        "# Get the fitted parameters used by the function\n",
        "(mu, sigma) = norm.fit(df['distance'])\n",
        "print( '\\n mu = {:.2f} and sigma = {:.2f}\\n'.format(mu, sigma))\n",
        "\n",
        "# Plot the distribution\n",
        "plt.legend(['Normal dist. ($\\mu=$ {:.2f} and $\\sigma=$ {:.2f} )'.format(mu, sigma)],\n",
        "            loc='best')\n",
        "plt.ylabel('Frequency')\n",
        "plt.title('Duration distribution')\n",
        "plt.show()\n"
      ],
      "metadata": {
        "id": "jZ9U-DN0mLq2"
      },
      "execution_count": null,
      "outputs": []
    },
    {
      "cell_type": "markdown",
      "source": [
        "### Bivariate Analysis"
      ],
      "metadata": {
        "id": "PwwvUJNs7js9"
      }
    },
    {
      "cell_type": "code",
      "source": [
        "# Analysis between pickup hour and trip duration\n",
        "group1 = df.groupby('hour').trip_duration.median()\n",
        "plt.figure(figsize = (12,6))\n",
        "sns.pointplot(x=group1.index, y=group1.values)\n",
        "plt.ylabel('Average Trip Duration')\n",
        "plt.xlabel('Pickup Hour')\n",
        "plt.show()"
      ],
      "metadata": {
        "id": "G_d5eY3e7ecU"
      },
      "execution_count": null,
      "outputs": []
    },
    {
      "cell_type": "markdown",
      "source": [
        "There is sharp increase in avg trip duration from 6 am onwards till 10 am ,  most working people leave at these hours."
      ],
      "metadata": {
        "id": "mb3rHhyHTGFD"
      }
    },
    {
      "cell_type": "code",
      "source": [
        "# Analysis between weekday and trip duration\n",
        "group1 = df.groupby('day').trip_duration.median()\n",
        "plt.figure(figsize = (12,6))\n",
        "sns.pointplot(x=group1.index, y=group1.values)\n",
        "plt.ylabel('Average Trip Duration')\n",
        "plt.xlabel('Weekday')\n",
        "plt.show()"
      ],
      "metadata": {
        "id": "0vBhDumsI83E"
      },
      "execution_count": null,
      "outputs": []
    },
    {
      "cell_type": "markdown",
      "source": [
        "The avg trip duration on sunday is slightly lower than other days , it could be because of weekend and less number of people going out."
      ],
      "metadata": {
        "id": "1ZH2wm0wT8mh"
      }
    },
    {
      "cell_type": "code",
      "source": [
        "# Analysis between pickup hour and trip distance\n",
        "group1 = df.groupby('day').distance.median()\n",
        "plt.figure(figsize = (12,6))\n",
        "sns.pointplot(x=group1.index, y=group1.values)\n",
        "plt.ylabel('Average Trip Distance')\n",
        "plt.xlabel('Weekday')\n",
        "plt.show()"
      ],
      "metadata": {
        "id": "zydHC5jxJvLB"
      },
      "execution_count": null,
      "outputs": []
    },
    {
      "cell_type": "markdown",
      "source": [
        "On sunday the trips cover more avg distance than other days , it could be because more travelling to and from airports or preople going out to meet friends and family from farther distances."
      ],
      "metadata": {
        "id": "kvmYykJfUnLa"
      }
    },
    {
      "cell_type": "code",
      "source": [
        "# Day-wise comparison of traffic\n",
        "n = sns.FacetGrid(df, col='day')\n",
        "n.map(plt.hist, 'hour')\n",
        "plt.show()"
      ],
      "metadata": {
        "id": "FGOJTK6W7jPV"
      },
      "execution_count": null,
      "outputs": []
    },
    {
      "cell_type": "markdown",
      "source": [
        "From above we can see that Weekends have high late night trip distribution as compared to other days as people tend to stay out late."
      ],
      "metadata": {
        "id": "hicMTBFCVb3Q"
      }
    },
    {
      "cell_type": "markdown",
      "source": [
        "#### Analyzing target variable"
      ],
      "metadata": {
        "id": "1HwvlZGfwkAn"
      }
    },
    {
      "cell_type": "markdown",
      "source": [
        "#### Trip Duration"
      ],
      "metadata": {
        "id": "r6_tfSy5v-Wo"
      }
    },
    {
      "cell_type": "code",
      "source": [
        "df.trip_duration.describe()"
      ],
      "metadata": {
        "id": "b2bF_6HnLPl1"
      },
      "execution_count": null,
      "outputs": []
    },
    {
      "cell_type": "code",
      "source": [
        "# boxplot trip duration\n",
        "plt.figure(figsize = (12,5))\n",
        "sns.boxplot(df.trip_duration)\n",
        "plt.show()"
      ],
      "metadata": {
        "id": "SSc-EtlIKyPr"
      },
      "execution_count": null,
      "outputs": []
    },
    {
      "cell_type": "code",
      "source": [
        "# Total outlier values outside 3 standard deviation\n",
        "len(df[df.trip_duration>df.trip_duration.quantile(0.99)])"
      ],
      "metadata": {
        "id": "zxLCsKqW6-5n",
        "colab": {
          "base_uri": "https://localhost:8080/"
        },
        "outputId": "4f5cafbf-18ed-4dd1-97a6-12726585ac30"
      },
      "execution_count": null,
      "outputs": [
        {
          "output_type": "execute_result",
          "data": {
            "text/plain": [
              "14326"
            ]
          },
          "metadata": {},
          "execution_count": 96
        }
      ]
    },
    {
      "cell_type": "code",
      "source": [
        "# Removing outliers \n",
        "df = df[df.trip_duration<df.trip_duration.quantile(0.99)]"
      ],
      "metadata": {
        "id": "lam7ktdOw5dC"
      },
      "execution_count": null,
      "outputs": []
    },
    {
      "cell_type": "code",
      "source": [
        "# Plotting trip distribution\n",
        "from scipy import stats\n",
        "from scipy.stats import norm, skew\n",
        "\n",
        "plt.rcParams[\"figure.figsize\"] = (12,6)\n",
        "sns.distplot(df['trip_duration'] , fit=norm);\n",
        "\n",
        "# Get the fitted parameters used by the function\n",
        "(mu, sigma) = norm.fit(df['trip_duration'])\n",
        "print( '\\n mu = {:.2f} and sigma = {:.2f}\\n'.format(mu, sigma))\n",
        "\n",
        "# Plot the distribution\n",
        "plt.legend(['Normal dist. ($\\mu=$ {:.2f} and $\\sigma=$ {:.2f} )'.format(mu, sigma)],\n",
        "            loc='best')\n",
        "plt.ylabel('Frequency')\n",
        "plt.title('Duration distribution')\n",
        "plt.show()\n"
      ],
      "metadata": {
        "id": "SmA_b9_slY62"
      },
      "execution_count": null,
      "outputs": []
    },
    {
      "cell_type": "markdown",
      "source": [
        "### Feature Selection"
      ],
      "metadata": {
        "id": "cnKlxzqNZZYa"
      }
    },
    {
      "cell_type": "code",
      "source": [
        "# Copying into new dataframe\n",
        "new_df=df.copy()"
      ],
      "metadata": {
        "id": "je77VdFFMKy0"
      },
      "execution_count": null,
      "outputs": []
    },
    {
      "cell_type": "code",
      "source": [
        "new_df.info()"
      ],
      "metadata": {
        "id": "imw7na0IrknO"
      },
      "execution_count": null,
      "outputs": []
    },
    {
      "cell_type": "code",
      "source": [
        "# Removing unnecessary features which are of no use\n",
        "new_df.drop(['id','pickup_datetime','dropoff_datetime','store_and_fwd_flag'], \n",
        "                axis = 1, inplace = True)"
      ],
      "metadata": {
        "id": "Rbf4B58DMQF6"
      },
      "execution_count": null,
      "outputs": []
    },
    {
      "cell_type": "code",
      "source": [
        "# Removing duplicates\n",
        "new_df.drop_duplicates(keep=False, inplace=True)"
      ],
      "metadata": {
        "id": "__5oqOgFRgIK"
      },
      "execution_count": null,
      "outputs": []
    },
    {
      "cell_type": "code",
      "source": [
        "# Visualising the correlation between attributes\n",
        "corr = new_df.corr(method='kendall')\n",
        "plt.figure(figsize=(16,10))\n",
        "plt.title(\"Correlation Between Different Variables\\n\")\n",
        "sns.heatmap(corr, annot=True)\n",
        "plt.show()"
      ],
      "metadata": {
        "id": "1RP3ZOZjKEKU"
      },
      "execution_count": null,
      "outputs": []
    },
    {
      "cell_type": "markdown",
      "source": [
        "There are no high correlations in our dataset."
      ],
      "metadata": {
        "id": "O3mUrG7uYpTk"
      }
    },
    {
      "cell_type": "code",
      "source": [
        "# Encoding Categorical Data\n",
        "df1 = pd.get_dummies(new_df, columns=['vendor_id','passenger_count','hour','month','day'], drop_first=True)"
      ],
      "metadata": {
        "id": "MONY8ts9Ny1B"
      },
      "execution_count": null,
      "outputs": []
    },
    {
      "cell_type": "code",
      "source": [
        "df1.info()"
      ],
      "metadata": {
        "id": "ToqjuazoOEMJ"
      },
      "execution_count": null,
      "outputs": []
    },
    {
      "cell_type": "code",
      "source": [
        "# Preliminary analysis using stats OLS\n",
        "import statsmodels.api as sm\n",
        "x =   df1.loc[:, df1.columns != 'trip_duration']\n",
        "Y = df1['trip_duration']"
      ],
      "metadata": {
        "id": "lRVL1CcZXkJL"
      },
      "execution_count": null,
      "outputs": []
    },
    {
      "cell_type": "code",
      "source": [
        "x = sm.add_constant(x)\n",
        "model= sm.OLS(Y, x).fit()\n",
        "model.summary()"
      ],
      "metadata": {
        "id": "oVo605sPXj77"
      },
      "execution_count": null,
      "outputs": []
    },
    {
      "cell_type": "markdown",
      "metadata": {
        "id": "J-jeJeE3uPj9"
      },
      "source": [
        "####Splitting Dataset"
      ]
    },
    {
      "cell_type": "code",
      "source": [
        "# Seperating independent and target variables\n",
        "X = df1.loc[:, df1.columns != 'trip_duration']\n",
        "y = df1['trip_duration']"
      ],
      "metadata": {
        "id": "iGISqVMLQ9WP"
      },
      "execution_count": null,
      "outputs": []
    },
    {
      "cell_type": "code",
      "execution_count": null,
      "metadata": {
        "colab": {
          "base_uri": "https://localhost:8080/"
        },
        "id": "2uAEMsUNGxU7",
        "outputId": "57514f71-566f-4044-dd89-2e1f7ff42416"
      },
      "outputs": [
        {
          "output_type": "stream",
          "name": "stdout",
          "text": [
            "(1135087, 45)\n",
            "(283772, 45)\n"
          ]
        }
      ],
      "source": [
        "# Creating test and training dataset\n",
        "from sklearn.model_selection import train_test_split\n",
        "X_train,X_test,y_train,y_test = train_test_split(X,y,test_size=0.2,random_state=42)\n",
        "print(X_train.shape)\n",
        "print(X_test.shape)"
      ]
    },
    {
      "cell_type": "code",
      "execution_count": null,
      "metadata": {
        "id": "LqXu7jlVHu8_"
      },
      "outputs": [],
      "source": [
        "X_train.info()"
      ]
    },
    {
      "cell_type": "code",
      "source": [
        "y_train.shape"
      ],
      "metadata": {
        "id": "RJcY7dW15O_3",
        "colab": {
          "base_uri": "https://localhost:8080/"
        },
        "outputId": "32523258-caed-487e-eaeb-d507a1c960f4"
      },
      "execution_count": null,
      "outputs": [
        {
          "output_type": "execute_result",
          "data": {
            "text/plain": [
              "(1138917,)"
            ]
          },
          "metadata": {},
          "execution_count": 102
        }
      ]
    },
    {
      "cell_type": "code",
      "source": [
        "# Scaling variables\n",
        "sc = StandardScaler()\n",
        "X_train.iloc[:, :5] = sc.fit_transform(X_train.iloc[:, :5])\n",
        "X_test.iloc[:, :5] = sc.fit_transform(X_test.iloc[:, :5])"
      ],
      "metadata": {
        "id": "KmMGeOP85GeU"
      },
      "execution_count": null,
      "outputs": []
    },
    {
      "cell_type": "markdown",
      "source": [
        "## Applying Regression Models"
      ],
      "metadata": {
        "id": "9KoL3qfkHxPw"
      }
    },
    {
      "cell_type": "markdown",
      "metadata": {
        "id": "KSuYuRS6WYBs"
      },
      "source": [
        "### Linear Regression"
      ]
    },
    {
      "cell_type": "code",
      "execution_count": null,
      "metadata": {
        "colab": {
          "base_uri": "https://localhost:8080/"
        },
        "id": "6SImSR4dGxS_",
        "outputId": "9f77691b-2bb6-478b-ddc5-1ec8ecf28df6"
      },
      "outputs": [
        {
          "output_type": "execute_result",
          "data": {
            "text/plain": [
              "0.6244058010191571"
            ]
          },
          "metadata": {},
          "execution_count": 110
        }
      ],
      "source": [
        "# Applying linear regression model\n",
        "reg = LinearRegression().fit(X_train, y_train)\n",
        "reg.score(X_train, y_train)"
      ]
    },
    {
      "cell_type": "code",
      "execution_count": null,
      "metadata": {
        "id": "VJRySbgpQlja"
      },
      "outputs": [],
      "source": [
        "y_train_pred = reg.predict(X_train)\n",
        "y_test_pred = reg.predict(X_test)"
      ]
    },
    {
      "cell_type": "code",
      "execution_count": null,
      "metadata": {
        "colab": {
          "base_uri": "https://localhost:8080/"
        },
        "id": "uySjAAj1GxQT",
        "outputId": "5108e4ce-2f2c-459c-efea-95fb6c21b7a7"
      },
      "outputs": [
        {
          "output_type": "stream",
          "name": "stdout",
          "text": [
            "MSE : 118225.05400404647\n",
            "RMSE : 343.8387034701685\n",
            "R2 : 0.6244058010191571\n",
            "Adjusted R2 :  0.6243909101571052\n"
          ]
        }
      ],
      "source": [
        "#Train set metrics\n",
        "L_MSE  = mean_squared_error((y_train), (y_train_pred))\n",
        "print(\"MSE :\" , L_MSE)\n",
        "\n",
        "L_RMSE = np.sqrt(L_MSE)\n",
        "\n",
        "print(\"RMSE :\" ,L_RMSE)\n",
        "\n",
        "L_r2 = r2_score((y_train), (y_train_pred))\n",
        "print(\"R2 :\" ,L_r2)\n",
        "\n",
        "L_ar2 = 1-(1-r2_score((y_train), (y_train_pred)))*((X_train.shape[0]-1)/(X_train.shape[0]-X_train.shape[1]-1))\n",
        "print(\"Adjusted R2 : \",L_ar2)"
      ]
    },
    {
      "cell_type": "code",
      "execution_count": null,
      "metadata": {
        "colab": {
          "base_uri": "https://localhost:8080/"
        },
        "id": "p_cVuzRbGxND",
        "outputId": "55adb6c4-894e-4726-ee39-fe6aed299803"
      },
      "outputs": [
        {
          "output_type": "stream",
          "name": "stdout",
          "text": [
            "MSE : 119221.04665171781\n",
            "RMSE : 345.2840086822988\n",
            "R2 : 0.623009378367501\n",
            "Adjusted R2 :  0.622949586251257\n"
          ]
        }
      ],
      "source": [
        "# Test set metrics\n",
        "Lt_MSE  = mean_squared_error((y_test), (y_test_pred))\n",
        "print(\"MSE :\" , Lt_MSE)\n",
        "\n",
        "Lt_RMSE = np.sqrt(Lt_MSE)\n",
        "print(\"RMSE :\" ,Lt_RMSE)\n",
        "\n",
        "Lt_r2 = r2_score((y_test), (y_test_pred ))\n",
        "print(\"R2 :\" ,Lt_r2)\n",
        "\n",
        "Lt_ar2 = 1-(1-r2_score((y_test), (y_test_pred )))*((X_test.shape[0]-1)/(X_test.shape[0]-X_test.shape[1]-1))\n",
        "print(\"Adjusted R2 : \", Lt_ar2)"
      ]
    },
    {
      "cell_type": "code",
      "execution_count": null,
      "metadata": {
        "id": "ADev57rCGxKU"
      },
      "outputs": [],
      "source": [
        "# Residual plot\n",
        "residuals=y_test_pred-y_test\n",
        "\n",
        "plt.figure(figsize=(8,5), dpi=120, facecolor='w', edgecolor='b')\n",
        "f = range(0,len(y_test))\n",
        "k = [0 for i in range(0,len(y_test))]\n",
        "plt.scatter( f, residuals, label = 'residuals')\n",
        "plt.plot( f, k , color = 'red', label = 'regression line' )\n",
        "plt.xlabel('fitted points ')\n",
        "plt.ylabel('residuals')\n",
        "plt.title('Residual plot')\n",
        "plt.legend()"
      ]
    },
    {
      "cell_type": "code",
      "execution_count": null,
      "metadata": {
        "id": "Y-n4_10HvbeY"
      },
      "outputs": [],
      "source": [
        "# Storing the traing and test set metrics for comparison\n",
        "training_df = pd.DataFrame()\n",
        "test_df = pd.DataFrame()\n",
        "\n",
        "a=pd.Series(\n",
        "    {'MSE':round((L_MSE),3),'RMSE':round((L_RMSE),3),'R2_score':round((L_r2),3),'Adjusted R2':round((L_ar2),3)},\n",
        "    name='Linear regression ')\n",
        "\n",
        "training_df = training_df.append(a,ignore_index=False)\n",
        "\n",
        "b=pd.Series(\n",
        "    {'MSE':round((Lt_MSE),3),'RMSE':round((Lt_RMSE),3),'R2_score':round((Lt_r2),3),'Adjusted R2':round((Lt_ar2),3)},\n",
        "     name='Linear regression ')            \n",
        "\n",
        "test_df = test_df.append(b,ignore_index=False)"
      ]
    },
    {
      "cell_type": "markdown",
      "metadata": {
        "id": "WudehhiCyY98"
      },
      "source": [
        "### Ridge Regression"
      ]
    },
    {
      "cell_type": "code",
      "execution_count": null,
      "metadata": {
        "colab": {
          "base_uri": "https://localhost:8080/"
        },
        "id": "kzfNSOagAi-k",
        "outputId": "827925f2-1729-48d8-dc6e-0904a8725a4a"
      },
      "outputs": [
        {
          "output_type": "execute_result",
          "data": {
            "text/plain": [
              "GridSearchCV(cv=5, estimator=Ridge(),\n",
              "             param_grid={'alpha': [1e-15, 1e-13, 1e-10, 1e-08, 1e-05, 0.0001,\n",
              "                                   0.001, 0.01, 0.1, 1, 5, 10, 20, 30, 40, 45,\n",
              "                                   50, 55, 60, 100]},\n",
              "             scoring='r2')"
            ]
          },
          "metadata": {},
          "execution_count": 50
        }
      ],
      "source": [
        "# Applying ridge regression model\n",
        "ridge = Ridge()\n",
        "parameters = {'alpha': [1e-15,1e-13,1e-10,1e-8,1e-5,1e-4,1e-3,1e-2,1e-1,1,5,10,20,30,40,45,50,55,60,100]}\n",
        "ridge_regressor = GridSearchCV(ridge, parameters, scoring='r2', cv=5)\n",
        "ridge_regressor.fit(X_train, y_train)"
      ]
    },
    {
      "cell_type": "code",
      "execution_count": null,
      "metadata": {
        "colab": {
          "base_uri": "https://localhost:8080/"
        },
        "id": "7a9hF007y6xd",
        "outputId": "d61609b0-7a98-402e-e9f7-53344322f216"
      },
      "outputs": [
        {
          "output_type": "execute_result",
          "data": {
            "text/plain": [
              "0.5505939605752155"
            ]
          },
          "metadata": {},
          "execution_count": 51
        }
      ],
      "source": [
        "ridge_regressor.score(X_train, y_train)"
      ]
    },
    {
      "cell_type": "code",
      "execution_count": null,
      "metadata": {
        "colab": {
          "base_uri": "https://localhost:8080/"
        },
        "id": "7TBme9spOLdD",
        "outputId": "ae4adfa5-4171-4827-fb60-11b3d77aad9d"
      },
      "outputs": [
        {
          "output_type": "stream",
          "name": "stdout",
          "text": [
            "The best fit alpha value is found out to be : {'alpha': 1}\n"
          ]
        }
      ],
      "source": [
        "print(\"The best fit alpha value is found out to be :\" ,ridge_regressor.best_params_)"
      ]
    },
    {
      "cell_type": "code",
      "execution_count": null,
      "metadata": {
        "id": "b3IZ2H0POLaL"
      },
      "outputs": [],
      "source": [
        "y_pred_ridge_train = ridge_regressor.predict(X_train)\n",
        "y_pred_ridge_test = ridge_regressor.predict(X_test)"
      ]
    },
    {
      "cell_type": "code",
      "execution_count": null,
      "metadata": {
        "colab": {
          "base_uri": "https://localhost:8080/"
        },
        "id": "kYQx8c9iOLWD",
        "outputId": "ad35755c-ec80-4574-904c-4b61b3becad6"
      },
      "outputs": [
        {
          "output_type": "stream",
          "name": "stdout",
          "text": [
            "Train MSE : 64267.70763792365\n",
            "Train RMSE : 253.51076434329894\n",
            "Train R2 : 0.5505939605752155\n",
            "Train Adjusted R2 :  0.5505744111713912\n"
          ]
        }
      ],
      "source": [
        "# Training metrics\n",
        "r_MSE  = mean_squared_error(y_train, y_pred_ridge_train)\n",
        "print(\"Train MSE :\" , r_MSE)\n",
        "\n",
        "r_RMSE = np.sqrt(r_MSE)\n",
        "print(\"Train RMSE :\" , r_RMSE)\n",
        "\n",
        "r_r2 = r2_score(y_train, y_pred_ridge_train)\n",
        "print(\"Train R2 :\" ,r_r2)\n",
        "\n",
        "r_ar2 = 1-(1-r2_score(y_train, y_pred_ridge_train))*((X_train.shape[0]-1)/(X_train.shape[0]-X_train.shape[1]-1))\n",
        "print(\"Train Adjusted R2 : \", r_ar2)\n"
      ]
    },
    {
      "cell_type": "code",
      "execution_count": null,
      "metadata": {
        "colab": {
          "base_uri": "https://localhost:8080/"
        },
        "id": "YMA8UyipOLTS",
        "outputId": "d2092740-03d4-4005-afab-42787ba5cd20"
      },
      "outputs": [
        {
          "output_type": "stream",
          "name": "stdout",
          "text": [
            "Test MSE : 64016.78555554594\n",
            "Test RMSE : 253.51076434329894\n",
            "Test R2 : 0.5513328561325768\n",
            "Test Adjusted R2 :  0.5512547769727136\n"
          ]
        }
      ],
      "source": [
        "# Testing metrics\n",
        "rt_MSE  = mean_squared_error(y_test, y_pred_ridge_test)\n",
        "print(\"Test MSE :\" , rt_MSE)\n",
        "\n",
        "rt_RMSE = np.sqrt(r_MSE)\n",
        "print(\"Test RMSE :\" ,rt_RMSE)\n",
        "\n",
        "rt_r2 = r2_score(y_test, y_pred_ridge_test)\n",
        "print(\"Test R2 :\" ,rt_r2)\n",
        "\n",
        "rt_ar2 = 1-(1-r2_score(y_test, y_pred_ridge_test))*((X_test.shape[0]-1)/(X_test.shape[0]-X_test.shape[1]-1))\n",
        "print(\"Test Adjusted R2 : \",rt_ar2)\n"
      ]
    },
    {
      "cell_type": "code",
      "source": [
        "# Storing the traing and test set metrics for comparison\n",
        "a=pd.Series(\n",
        "    {'MSE':round((r_MSE),3),'RMSE':round((r_RMSE),3),'R2_score':round((r_r2),3),'Adjusted R2':round((r_ar2),3)},\n",
        "    name='Ridge regression ')\n",
        "\n",
        "training_df = training_df.append(a,ignore_index=False)\n",
        "\n",
        "b=pd.Series(\n",
        "    {'MSE':round((rt_MSE),3),'RMSE':round((rt_RMSE),3),'R2_score':round((rt_r2),3),'Adjusted R2':round((rt_ar2),3)},\n",
        "     name='Ridge regression ')            \n",
        "\n",
        "test_df = test_df.append(b,ignore_index=False)"
      ],
      "metadata": {
        "id": "w-gvpd-j1-Dw"
      },
      "execution_count": null,
      "outputs": []
    },
    {
      "cell_type": "markdown",
      "source": [
        "### Lasso Regression"
      ],
      "metadata": {
        "id": "LyBalfBR4p9L"
      }
    },
    {
      "cell_type": "code",
      "source": [
        "# Applying lasso regressor\n",
        "lasso = Lasso()\n",
        "parameters = {'alpha': [1e-10,1e-8,1e-5,1e-4,1e-3,1e-2,1e-1,1,5,10,20,30,40,45,50,60,100]}\n",
        "lasso_regressor = GridSearchCV(lasso, parameters, scoring='r2', cv=5)\n",
        "lasso_regressor.fit(X_train, y_train)"
      ],
      "metadata": {
        "id": "QMAFUeXC4prc"
      },
      "execution_count": null,
      "outputs": []
    },
    {
      "cell_type": "code",
      "source": [
        "lasso_regressor.score(X_train, y_train)"
      ],
      "metadata": {
        "colab": {
          "base_uri": "https://localhost:8080/"
        },
        "id": "UfVknoNQ4tms",
        "outputId": "0bfe3066-b43a-4462-fce8-594635d8971d"
      },
      "execution_count": null,
      "outputs": [
        {
          "output_type": "execute_result",
          "data": {
            "text/plain": [
              "0.5505939610899314"
            ]
          },
          "metadata": {},
          "execution_count": 58
        }
      ]
    },
    {
      "cell_type": "code",
      "source": [
        "print(\"The best fit alpha value is found out to be :\" ,lasso_regressor.best_params_)"
      ],
      "metadata": {
        "id": "RRPTuWtw4tj8"
      },
      "execution_count": null,
      "outputs": []
    },
    {
      "cell_type": "code",
      "source": [
        "y_pred_lasso_test = lasso_regressor.predict(X_test)\n",
        "y_pred_lasso_train = lasso_regressor.predict(X_train)"
      ],
      "metadata": {
        "id": "fq8FQoRi4thM"
      },
      "execution_count": null,
      "outputs": []
    },
    {
      "cell_type": "code",
      "source": [
        "# Training metrics\n",
        "l_MSE  = mean_squared_error(y_train, y_pred_lasso_train)\n",
        "print(\"Train MSE :\" , l_MSE)\n",
        "\n",
        "l_RMSE = np.sqrt(l_MSE)\n",
        "print(\"Train RMSE :\" ,l_RMSE)\n",
        "\n",
        "l_r2 = r2_score(y_train, y_pred_lasso_train)\n",
        "print(\"Train R2 :\" ,l_r2)\n",
        "l_ar2 = 1-(1-r2_score(y_train, y_pred_lasso_train))*((X_train.shape[0]-1)/(X_train.shape[0]-X_train.shape[1]-1))\n",
        "print(\"Train Adjusted R2 : \",l_ar2)"
      ],
      "metadata": {
        "id": "uAVo441u4teb"
      },
      "execution_count": null,
      "outputs": []
    },
    {
      "cell_type": "code",
      "source": [
        "# Test metrics\n",
        "lt_MSE  = mean_squared_error(y_test, y_pred_lasso_test)\n",
        "print(\"Test MSE :\" , lt_MSE)\n",
        "\n",
        "lt_RMSE = np.sqrt(lt_MSE)\n",
        "print(\"Test RMSE :\" ,lt_RMSE)\n",
        "\n",
        "lt_r2 = r2_score(y_test, y_pred_lasso_test)\n",
        "print(\"Test R2 :\" ,lt_r2)\n",
        "\n",
        "lt_ar2 = 1-(1-r2_score(y_test, y_pred_lasso_test))*((X_test.shape[0]-1)/(X_test.shape[0]-X_test.shape[1]-1))\n",
        "print(\"Test Adjusted R2 : \",lt_ar2)"
      ],
      "metadata": {
        "id": "gDW3VaFF4tbj"
      },
      "execution_count": null,
      "outputs": []
    },
    {
      "cell_type": "code",
      "source": [
        "# storing the traing and test set metrics for comparison\n",
        "a=pd.Series(\n",
        "    {'MSE':round((l_MSE),3),'RMSE':round((l_RMSE),3),'R2_score':round((l_r2),3),'Adjusted R2':round((l_ar2),3)},\n",
        "    name='Lasso regression ')\n",
        "\n",
        "training_df = training_df.append(a,ignore_index=False)\n",
        "\n",
        "b=pd.Series(\n",
        "    {'MSE':round((lt_MSE),3),'RMSE':round((lt_RMSE),3),'R2_score':round((lt_r2),3),'Adjusted R2':round((lt_ar2),3)},\n",
        "     name='Lasso regression ')            \n",
        "\n",
        "test_df = test_df.append(b,ignore_index=False)"
      ],
      "metadata": {
        "id": "6MQZENnS5Vgq"
      },
      "execution_count": null,
      "outputs": []
    },
    {
      "cell_type": "markdown",
      "metadata": {
        "id": "TjSGOW7-PYWj"
      },
      "source": [
        "### Decision Tree"
      ]
    },
    {
      "cell_type": "code",
      "execution_count": null,
      "metadata": {
        "id": "kWVs0Ml5Qvy9"
      },
      "outputs": [],
      "source": [
        "from sklearn.tree import DecisionTreeRegressor\n",
        "\n",
        "# Hyperparameter Grid\n",
        "param_dt = { 'max_depth' : [9,10] , 'min_samples_split' : [40,50] , 'min_samples_leaf' : [20,30] }\n",
        "\n",
        "dt_model = DecisionTreeRegressor()\n",
        "\n",
        "# Grid search\n",
        "dt_grid = GridSearchCV(estimator = dt_model,\n",
        "                       param_grid = param_dt,\n",
        "                       cv = 5, verbose = 2, scoring = 'r2')\n",
        "\n",
        "dt_grid.fit(X_train,y_train)"
      ]
    },
    {
      "cell_type": "code",
      "execution_count": null,
      "metadata": {
        "colab": {
          "base_uri": "https://localhost:8080/"
        },
        "id": "4OinOEapQvuC",
        "outputId": "2f3be030-9ca7-4e4c-d9c7-e67bcd5ae7ed"
      },
      "outputs": [
        {
          "output_type": "execute_result",
          "data": {
            "text/plain": [
              "0.5908874319926922"
            ]
          },
          "metadata": {},
          "execution_count": 64
        }
      ],
      "source": [
        "dt_grid.best_score_"
      ]
    },
    {
      "cell_type": "code",
      "execution_count": null,
      "metadata": {
        "colab": {
          "base_uri": "https://localhost:8080/"
        },
        "id": "PtfsS8U_Qvr3",
        "outputId": "2320f780-7918-43f2-a067-e257b4e5f34e"
      },
      "outputs": [
        {
          "output_type": "execute_result",
          "data": {
            "text/plain": [
              "DecisionTreeRegressor(max_depth=10, min_samples_leaf=30, min_samples_split=40)"
            ]
          },
          "metadata": {},
          "execution_count": 65
        }
      ],
      "source": [
        "dt_grid.best_estimator_"
      ]
    },
    {
      "cell_type": "code",
      "execution_count": null,
      "metadata": {
        "id": "V3hdPUq5efNt"
      },
      "outputs": [],
      "source": [
        "dt_optimal_model =dt_grid.best_estimator_"
      ]
    },
    {
      "cell_type": "code",
      "execution_count": null,
      "metadata": {
        "id": "b40IovW3Qvpe"
      },
      "outputs": [],
      "source": [
        "y_pred_dt_train = dt_optimal_model.predict(X_train)\n",
        "y_pred_dt_test = dt_optimal_model.predict(X_test)"
      ]
    },
    {
      "cell_type": "code",
      "execution_count": null,
      "metadata": {
        "colab": {
          "base_uri": "https://localhost:8080/"
        },
        "id": "EgNzE2QkQvm6",
        "outputId": "47184e2b-c762-47da-e435-9ce671c2025c"
      },
      "outputs": [
        {
          "output_type": "stream",
          "name": "stdout",
          "text": [
            "Train MSE : 57840.23474131701\n",
            "Train RMSE : 240.49996827716424\n",
            "Train R2 : 0.5955394743353739\n",
            "Train Adjusted R2 :  0.5955218800855118\n"
          ]
        }
      ],
      "source": [
        "# Training metrics\n",
        "d_MSE  = mean_squared_error(y_train, y_pred_dt_train)\n",
        "print(\"Train MSE :\" , d_MSE)\n",
        "\n",
        "d_RMSE = np.sqrt(d_MSE)\n",
        "print(\"Train RMSE :\" ,d_RMSE)\n",
        "\n",
        "d_r2 = r2_score(y_train, y_pred_dt_train)\n",
        "print(\"Train R2 :\" ,d_r2)\n",
        "\n",
        "d_ar2 = 1-(1-r2_score(y_train, y_pred_dt_train))*((X_train.shape[0]-1)/(X_train.shape[0]-X_train.shape[1]-1))\n",
        "print(\"Train Adjusted R2 : \",d_ar2)"
      ]
    },
    {
      "cell_type": "code",
      "execution_count": null,
      "metadata": {
        "colab": {
          "base_uri": "https://localhost:8080/"
        },
        "id": "_5mHC18LQvkK",
        "outputId": "11e4dd4c-f6a2-43d8-e70e-6892c4ff603f"
      },
      "outputs": [
        {
          "output_type": "stream",
          "name": "stdout",
          "text": [
            "Test MSE : 58322.073117166576\n",
            "Test RMSE : 241.49963378267591\n",
            "Test R2 : 0.5955394743353739\n",
            "Test Adjusted R2 :  0.5911736042156011\n"
          ]
        }
      ],
      "source": [
        "# Testing metrics\n",
        "dt_MSE  = mean_squared_error(y_test, y_pred_dt_test)\n",
        "print(\"Test MSE :\" , dt_MSE)\n",
        "\n",
        "dt_RMSE = np.sqrt(dt_MSE)\n",
        "print(\"Test RMSE :\" ,dt_RMSE)\n",
        "\n",
        "print('Training MAE: {:0.2f}'.format(metrics.mean_absolute_error(y_test, y_pred_dt_test)))\n",
        "\n",
        "dt_r2 = r2_score(y_test, y_pred_dt_test)\n",
        "print(\"Test R2 :\" ,d_r2)\n",
        "\n",
        "dt_ar2 = 1-(1-r2_score(y_test, y_pred_dt_test))*((X_test.shape[0]-1)/(X_test.shape[0]-X_test.shape[1]-1))\n",
        "print(\"Test Adjusted R2 : \",dt_ar2)"
      ]
    },
    {
      "cell_type": "code",
      "source": [
        "#Residual plot\n",
        "plt.scatter((y_test)-(y_pred_dt_test),(y_pred_dt_test))"
      ],
      "metadata": {
        "id": "5a3qxW-rxMaw"
      },
      "execution_count": null,
      "outputs": []
    },
    {
      "cell_type": "code",
      "execution_count": null,
      "metadata": {
        "id": "PQjHUR3737RG"
      },
      "outputs": [],
      "source": [
        "# storing the traing and test set metrics for comparison\n",
        "a=pd.Series(\n",
        "    {'MSE':round((d_MSE),3),'RMSE':round((d_RMSE),3),'R2_score':round((d_r2),3),'Adjusted R2':round((d_ar2),3)},\n",
        "    name='Decision Tree regression ')\n",
        "\n",
        "training_df = training_df.append(a,ignore_index=False)\n",
        "\n",
        "b=pd.Series(\n",
        "    {'MSE':round((dt_MSE),3),'RMSE':round((dt_RMSE),3),'R2_score':round((dt_r2),3),'Adjusted R2':round((dt_ar2),3)},\n",
        "     name='Decision Tree regression ')            \n",
        "\n",
        "test_df = test_df.append(b,ignore_index=False)"
      ]
    },
    {
      "cell_type": "code",
      "execution_count": null,
      "metadata": {
        "id": "iX9ZuU-de07R"
      },
      "outputs": [],
      "source": [
        "importances = dt_optimal_model.feature_importances_\n",
        "\n",
        "importance_dict = {'Feature' : list(X_train.columns),\n",
        "                   'Feature Importance' : importances}\n",
        "\n",
        "importance_df = pd.DataFrame(importance_dict)\n",
        "importance_df.sort_values(by=['Feature Importance'],ascending=False,inplace=True)\n",
        "importance_df"
      ]
    },
    {
      "cell_type": "code",
      "execution_count": null,
      "metadata": {
        "id": "HYd7VV_Re0xp"
      },
      "outputs": [],
      "source": [
        "plt.figure(figsize=(15,10))\n",
        "plt.title('Features importace')\n",
        "sns.barplot(x='Feature',y=\"Feature Importance\",data=importance_df[:10])"
      ]
    },
    {
      "cell_type": "markdown",
      "metadata": {
        "id": "UVNqUnm6fu4p"
      },
      "source": [
        "#### XGB Regressor"
      ]
    },
    {
      "cell_type": "code",
      "execution_count": null,
      "metadata": {
        "id": "3F9UE4Ecu8lR"
      },
      "outputs": [],
      "source": [
        "# Hyperparameter Grid\n",
        "param_xgb = {'n_estimators' : [100,150] ,'max_depth' : [9,10],'min_samples_split':[30,40] }\n",
        "\n",
        "# Create an instance of the  XGBRegressor\n",
        "import xgboost as xgb\n",
        "xgb_m = xgb.XGBRegressor(tree_method = \"gpu_hist\")\n",
        "\n",
        "# Grid search\n",
        "xgb_grid = GridSearchCV(estimator = xgb_m , param_grid = param_xgb, cv = 5 , verbose=2 , scoring=\"r2\")\n",
        "\n",
        "xgb_grid.fit(X_train,y_train)"
      ]
    },
    {
      "cell_type": "code",
      "execution_count": null,
      "metadata": {
        "colab": {
          "base_uri": "https://localhost:8080/"
        },
        "id": "nIwLlVGitpRh",
        "outputId": "d12f99c7-064d-48ca-b918-cd95eebab9ea"
      },
      "outputs": [
        {
          "output_type": "execute_result",
          "data": {
            "text/plain": [
              "0.7930116054925561"
            ]
          },
          "metadata": {},
          "execution_count": 115
        }
      ],
      "source": [
        "xgb_grid.best_score_"
      ]
    },
    {
      "cell_type": "code",
      "execution_count": null,
      "metadata": {
        "colab": {
          "base_uri": "https://localhost:8080/"
        },
        "id": "GJKiqhwDtpOZ",
        "outputId": "31bff9f4-d078-4b34-d976-b39721da50d3"
      },
      "outputs": [
        {
          "output_type": "execute_result",
          "data": {
            "text/plain": [
              "{'max_depth': 10, 'min_samples_split': 30, 'n_estimators': 150}"
            ]
          },
          "metadata": {},
          "execution_count": 116
        }
      ],
      "source": [
        "xgb_grid.best_params_"
      ]
    },
    {
      "cell_type": "code",
      "execution_count": null,
      "metadata": {
        "id": "NR6No4hbtpLa"
      },
      "outputs": [],
      "source": [
        "xgb_model = xgb_grid.best_estimator_"
      ]
    },
    {
      "cell_type": "code",
      "execution_count": null,
      "metadata": {
        "id": "yEjS_jCBuw1I"
      },
      "outputs": [],
      "source": [
        "y_pred_xgb_test = xgb_model.predict(X_test)\n",
        "y_pred_xgb_train = xgb_model.predict(X_train)"
      ]
    },
    {
      "cell_type": "code",
      "execution_count": null,
      "metadata": {
        "id": "JRhLTtPMuwyB",
        "colab": {
          "base_uri": "https://localhost:8080/"
        },
        "outputId": "4b69a58e-ee66-4b68-977d-b0491bfd52d6"
      },
      "outputs": [
        {
          "output_type": "stream",
          "name": "stdout",
          "text": [
            "Train MSE : 56911.226799658325\n",
            "Train RMSE : 238.56074027311854\n",
            "Train R2 : 0.8191963046842581\n",
            "Train Adjusted R2 :  0.8191891365147477\n"
          ]
        }
      ],
      "source": [
        "# Training metrics\n",
        "xg_MSE  = mean_squared_error(y_train, y_pred_xgb_train)\n",
        "print(\"Train MSE :\" , xg_MSE)\n",
        "\n",
        "xg_RMSE = np.sqrt(xg_MSE)\n",
        "print(\"Train RMSE :\" ,xg_RMSE)\n",
        "\n",
        "xg_r2 = r2_score(y_train, y_pred_xgb_train)\n",
        "print(\"Train R2 :\" ,xg_r2)\n",
        "\n",
        "xg_ar2 = 1-(1-r2_score((y_train), (y_pred_xgb_train)))*((X_train.shape[0]-1)/(X_train.shape[0]-X_train.shape[1]-1))\n",
        "print(\"Train Adjusted R2 : \",xg_ar2)"
      ]
    },
    {
      "cell_type": "code",
      "execution_count": null,
      "metadata": {
        "colab": {
          "base_uri": "https://localhost:8080/"
        },
        "id": "7gike0Q-uwux",
        "outputId": "1486cb20-fb40-4da2-b8a1-7727bf78684c"
      },
      "outputs": [
        {
          "output_type": "stream",
          "name": "stdout",
          "text": [
            "Test MSE : 65775.86341208882\n",
            "Test RMSE : 256.4680553443037\n",
            "Test R2 : 0.7920091767976405\n",
            "Test Adjusted R2 :  0.7919761886786661\n"
          ]
        }
      ],
      "source": [
        "# Testing metrics\n",
        "xgt_MSE  = mean_squared_error(y_test, y_pred_xgb_test)\n",
        "print(\"Test MSE :\" , xgt_MSE)\n",
        "\n",
        "xgt_RMSE = np.sqrt(xgt_MSE)\n",
        "print(\"Test RMSE :\" ,xgt_RMSE)\n",
        "\n",
        "xgt_r2 = r2_score(y_test, y_pred_xgb_test)\n",
        "print(\"Test R2 :\" ,xgt_r2)\n",
        "\n",
        "xgt_ar2 = 1-(1-r2_score((y_test), (y_pred_xgb_test)))*((X_test.shape[0]-1)/(X_test.shape[0]-X_test.shape[1]-1))\n",
        "print(\"Test Adjusted R2 : \", xgt_ar2)"
      ]
    },
    {
      "cell_type": "code",
      "source": [
        "#Residual plot\n",
        "plt.scatter((y_test)-(y_pred_xgb_test),(y_pred_xgb_test))"
      ],
      "metadata": {
        "id": "RbBe7MScxZLA"
      },
      "execution_count": null,
      "outputs": []
    },
    {
      "cell_type": "code",
      "execution_count": null,
      "metadata": {
        "id": "oTCgZN0i4ga1"
      },
      "outputs": [],
      "source": [
        "# storing the traing and test set metrics for comparison\n",
        "a=pd.Series(\n",
        "    {'MSE':round((xg_MSE),3),'RMSE':round((xg_RMSE),3),'R2_score':round((xg_r2),3),'Adjusted R2':round((xg_ar2),3)},\n",
        "    name='Ridge regression ')\n",
        "\n",
        "training_df = training_df.append(a,ignore_index=False)\n",
        "\n",
        "b=pd.Series(\n",
        "    {'MSE':round((xgt_MSE),3),'RMSE':round((xgt_RMSE),3),'R2_score':round((xgt_r2),3),'Adjusted R2':round((xgt_ar2),3)},\n",
        "     name='Ridge regression ')            \n",
        "\n",
        "test_df = test_df.append(b,ignore_index=False)"
      ]
    },
    {
      "cell_type": "code",
      "execution_count": null,
      "metadata": {
        "id": "BPCLCs6juwmS"
      },
      "outputs": [],
      "source": [
        "# Checking important features\n",
        "importances = xgb_model.feature_importances_\n",
        "\n",
        "importance_dict = {'Feature' : list(X_train.columns),\n",
        "                   'Feature Importance' : importances}\n",
        "\n",
        "importance_df = pd.DataFrame(importance_dict)\n",
        "importance_df.sort_values(by=['Feature Importance'],ascending=False,inplace=True)\n",
        "importance_df"
      ]
    },
    {
      "cell_type": "code",
      "execution_count": null,
      "metadata": {
        "id": "K-apw_XZuwjb"
      },
      "outputs": [],
      "source": [
        "plt.figure(figsize=(15,10))\n",
        "plt.title('Features importace')\n",
        "sns.barplot(x='Feature',y=\"Feature Importance\",data=importance_df[:10])"
      ]
    },
    {
      "cell_type": "markdown",
      "metadata": {
        "id": "uRm3NmzJdRxO"
      },
      "source": [
        "#### LGBM Regressor"
      ]
    },
    {
      "cell_type": "code",
      "execution_count": null,
      "metadata": {
        "id": "kkKa-sEUuwgy"
      },
      "outputs": [],
      "source": [
        "# Applying LightGBM \n",
        "\n",
        "params={\"n_estimator\":[5,10],\"max_depth\":[10,20] ,\"min_samples_split\":[20,30]}\n",
        "\n",
        "lgb = LGBMRegressor()\n",
        "gs_lgb = GridSearchCV(lgb,params,cv=5,verbose=2,scoring='r2')\n",
        "gs_lgb.fit(X_train,y_train)"
      ]
    },
    {
      "cell_type": "code",
      "execution_count": null,
      "metadata": {
        "colab": {
          "base_uri": "https://localhost:8080/"
        },
        "id": "ppZRa86UuweB",
        "outputId": "41b62d5f-e46b-49fc-8d67-48683c682a0c"
      },
      "outputs": [
        {
          "output_type": "stream",
          "name": "stdout",
          "text": [
            "0.7614648788398489\n",
            "{'max_depth': 20, 'min_samples_split': 20, 'n_estimator': 5}\n"
          ]
        }
      ],
      "source": [
        "print(gs_lgb.best_score_)\n",
        "print(gs_lgb.best_params_)"
      ]
    },
    {
      "cell_type": "code",
      "execution_count": null,
      "metadata": {
        "id": "r3ZwLFkluwbX"
      },
      "outputs": [],
      "source": [
        "lgb_model = gs_lgb.best_estimator_"
      ]
    },
    {
      "cell_type": "code",
      "execution_count": null,
      "metadata": {
        "id": "q37c8UY9uwV5"
      },
      "outputs": [],
      "source": [
        "y_pred_lgb_train = lgb_model.predict(X_train)\n",
        "y_pred_lgb = lgb_model.predict(X_test)"
      ]
    },
    {
      "cell_type": "code",
      "execution_count": null,
      "metadata": {
        "id": "kXOE4J11uwTR",
        "colab": {
          "base_uri": "https://localhost:8080/"
        },
        "outputId": "a49ddd30-4325-4542-c320-7fd339288ade"
      },
      "outputs": [
        {
          "output_type": "stream",
          "name": "stdout",
          "text": [
            "Train MSE : 74751.06856926194\n",
            "Train RMSE : 273.40641647419676\n",
            "Train R2 : 0.7625201531202257\n",
            "Train Adjusted R2 :  0.7625107379597957\n"
          ]
        }
      ],
      "source": [
        "# Training metrics\n",
        "lg_MSE  = mean_squared_error(y_train, y_pred_lgb_train)\n",
        "print(\"Train MSE :\" , lg_MSE)\n",
        "\n",
        "lg_RMSE = np.sqrt(lg_MSE)\n",
        "print(\"Train RMSE :\" ,lg_RMSE)\n",
        "\n",
        "lg_r2 = r2_score(y_train, y_pred_lgb_train)\n",
        "print(\"Train R2 :\" ,lg_r2)\n",
        "\n",
        "lg_ar2 = 1-(1-r2_score((y_train), (y_pred_lgb_train)))*((X_train.shape[0]-1)/(X_train.shape[0]-X_train.shape[1]-1))\n",
        "print(\"Train Adjusted R2 : \",lg_ar2)"
      ]
    },
    {
      "cell_type": "code",
      "execution_count": null,
      "metadata": {
        "id": "aiGGmxKFgsYM",
        "colab": {
          "base_uri": "https://localhost:8080/"
        },
        "outputId": "ff9b0480-59c5-4103-ddee-82838d80c26e"
      },
      "outputs": [
        {
          "output_type": "stream",
          "name": "stdout",
          "text": [
            "Test MSE : 75925.30534677533\n",
            "Test RMSE : 275.54546874658513\n",
            "Test R2 : 0.7599154774749186\n",
            "Test Adjusted R2 :  0.7598773991757369\n"
          ]
        }
      ],
      "source": [
        "# Testing metrics\n",
        "lgt_MSE  = mean_squared_error(y_test, y_pred_lgb)\n",
        "print(\"Test MSE :\" , lgt_MSE)\n",
        "\n",
        "lgt_RMSE = np.sqrt(lgt_MSE)\n",
        "print(\"Test RMSE :\" ,lgt_RMSE)\n",
        "\n",
        "lgt_r2 = r2_score(y_test, y_pred_lgb)\n",
        "print(\"Test R2 :\" ,lgt_r2)\n",
        "\n",
        "lgt_ar2 = 1-(1-r2_score((y_test), (y_pred_lgb)))*((X_test.shape[0]-1)/(X_test.shape[0]-X_test.shape[1]-1))\n",
        "print(\"Test Adjusted R2 : \",lgt_ar2)"
      ]
    },
    {
      "cell_type": "code",
      "source": [
        "#Residual plot\n",
        "plt.scatter((y_test)-(y_pred_lgb),(y_pred_lgb))"
      ],
      "metadata": {
        "id": "KVTs722Nxeo3"
      },
      "execution_count": null,
      "outputs": []
    },
    {
      "cell_type": "code",
      "execution_count": null,
      "metadata": {
        "id": "rXGsGp3k5d3Q"
      },
      "outputs": [],
      "source": [
        "# storing the traing and test set metrics for comparison\n",
        "a=pd.Series(\n",
        "    {'MSE':round((lg_MSE),3),'RMSE':round((lg_RMSE),3),'R2_score':round((lg_r2),3),'Adjusted R2':round((lg_ar2),3)},\n",
        "    name='LGBM regression ')\n",
        "\n",
        "training_df = training_df.append(a,ignore_index=False)\n",
        "\n",
        "b=pd.Series(\n",
        "    {'MSE':round((lgt_MSE),3),'RMSE':round((lgt_RMSE),3),'R2_score':round((lgt_r2),3),'Adjusted R2':round((lgt_ar2),3)},\n",
        "     name='LGBM regression ')            \n",
        "\n",
        "test_df = test_df.append(b,ignore_index=False)"
      ]
    },
    {
      "cell_type": "code",
      "execution_count": null,
      "metadata": {
        "id": "CHUF4mJH5dwB"
      },
      "outputs": [],
      "source": [
        "# Checking important features\n",
        "importances = lgb_model.feature_importances_\n",
        "\n",
        "importance_dict = {'Feature' : list(X_train.columns),\n",
        "                   'Feature Importance' : importances}\n",
        "\n",
        "importance_df = pd.DataFrame(importance_dict)\n",
        "importance_df.sort_values(by=['Feature Importance'],ascending=False,inplace=True)\n",
        "importance_df"
      ]
    },
    {
      "cell_type": "code",
      "source": [
        "plt.figure(figsize=(15,10))\n",
        "plt.title('Features importace')\n",
        "sns.barplot(x='Feature',y=\"Feature Importance\",data=importance_df[:10])"
      ],
      "metadata": {
        "id": "cjDXQcvDD3jR"
      },
      "execution_count": null,
      "outputs": []
    },
    {
      "cell_type": "markdown",
      "metadata": {
        "id": "yYdyPlYU-XSC"
      },
      "source": [
        "#### Random Forest"
      ]
    },
    {
      "cell_type": "code",
      "execution_count": null,
      "metadata": {
        "id": "tiF_wT7GgsVU"
      },
      "outputs": [],
      "source": [
        "from sklearn.ensemble import RandomForestRegressor\n",
        "\n",
        "params={\"max_depth\": [8,10],\"min_samples_split\": [40,50],\"n_estimators\": [100,150]}\n",
        "RFR = RandomForestRegressor()\n",
        "RFR_grid = GridSearchCV(RFR, params, scoring='r2',verbose=2, cv=3, n_jobs=-1)\n",
        "RFR_grid.fit(X_train, y_train)"
      ]
    },
    {
      "cell_type": "code",
      "execution_count": null,
      "metadata": {
        "colab": {
          "base_uri": "https://localhost:8080/"
        },
        "id": "8ICJw16WgsDM",
        "outputId": "0bd56b47-fc9c-4c00-97ac-7c2cb9756082"
      },
      "outputs": [
        {
          "output_type": "stream",
          "name": "stdout",
          "text": [
            "0.6826572522903533\n",
            "{'max_depth': 9, 'min_samples_split': 30, 'n_estimators': 50}\n"
          ]
        }
      ],
      "source": [
        "print(RFR_grid.best_score_)\n",
        "print(RFR_grid.best_params_)"
      ]
    },
    {
      "cell_type": "code",
      "execution_count": null,
      "metadata": {
        "id": "DSTpF1nOrA0E"
      },
      "outputs": [],
      "source": [
        "rf_model = RFR_grid.best_estimator_"
      ]
    },
    {
      "cell_type": "code",
      "execution_count": null,
      "metadata": {
        "id": "nsQIZO7irAwf"
      },
      "outputs": [],
      "source": [
        "y_pred_rf = rf_model.predict(X_test)\n",
        "y_pred_rf_train = rf_model.predict(X_train)"
      ]
    },
    {
      "cell_type": "code",
      "execution_count": null,
      "metadata": {
        "id": "iKSmAWy3rArB",
        "colab": {
          "base_uri": "https://localhost:8080/"
        },
        "outputId": "06ed7a88-a97c-442d-adc3-9d8c3d747865"
      },
      "outputs": [
        {
          "output_type": "stream",
          "name": "stdout",
          "text": [
            "Train MSE : 1.3230569789031397\n",
            "Train RMSE : 1.1502421392485755\n",
            "Train R2 : 0.6838898979332522\n",
            "Train Adjusted R2 :  0.6838785491816053\n"
          ]
        }
      ],
      "source": [
        "# Training metrics\n",
        "rf_MSE  = mean_squared_error(y_train, y_pred_rf_train)\n",
        "print(\"Train MSE :\" , rf_MSE)\n",
        "\n",
        "rf_RMSE = np.sqrt(rf_MSE)\n",
        "print(\"Train RMSE :\" ,rf_RMSE)\n",
        "\n",
        "rf_r2 = r2_score(y_train, y_pred_rf_train)\n",
        "print(\"Train R2 :\" ,rf_r2)\n",
        "\n",
        "rf_ar2 = 1-(1-r2_score((y_train), (y_pred_rf_train)))*((X_train.shape[0]-1)/(X_train.shape[0]-X_train.shape[1]-1))\n",
        "print(\"Train Adjusted R2 : \",rf_ar2)"
      ]
    },
    {
      "cell_type": "code",
      "execution_count": null,
      "metadata": {
        "id": "_FFDph5m61dX",
        "colab": {
          "base_uri": "https://localhost:8080/"
        },
        "outputId": "2cdf0fd9-514e-470d-c331-821f8c3bc034"
      },
      "outputs": [
        {
          "output_type": "stream",
          "name": "stdout",
          "text": [
            "Train MSE : 1.336514139218553\n",
            "Train RMSE : 1.1560770472674184\n",
            "Train R2 : 0.6831758116037868\n",
            "Train Adjusted R2 :  0.6831644372155394\n"
          ]
        }
      ],
      "source": [
        "# Testing metrics\n",
        "rft_MSE  = mean_squared_error(y_test, y_pred_rf)\n",
        "print(\"Train MSE :\" , rft_MSE)\n",
        "\n",
        "rft_RMSE = np.sqrt(rft_MSE)\n",
        "print(\"Train RMSE :\" ,rft_RMSE)\n",
        "\n",
        "rft_r2 = r2_score(y_test, y_pred_rf)\n",
        "print(\"Train R2 :\" ,rft_r2)\n",
        "\n",
        "rft_ar2 = 1-(1-r2_score((y_test), (y_pred_rf)))*((X_train.shape[0]-1)/(X_train.shape[0]-X_train.shape[1]-1))\n",
        "print(\"Train Adjusted R2 : \",rft_ar2)"
      ]
    },
    {
      "cell_type": "code",
      "source": [
        "#Residual plot\n",
        "plt.scatter((y_test)-(y_pred_rf),(y_pred_rf))"
      ],
      "metadata": {
        "id": "B8EQlY0nxkUA"
      },
      "execution_count": null,
      "outputs": []
    },
    {
      "cell_type": "code",
      "source": [
        "# storing the traing and test set metrics for comparison\n",
        "a=pd.Series(\n",
        "    {'MSE':round((rf_MSE),3),'RMSE':round((rf_RMSE),3),'R2_score':round((rf_r2),3),'Adjusted R2':round((rf_ar2),3)},\n",
        "    name='Ridge regression ')\n",
        "\n",
        "training_df = training_df.append(a,ignore_index=False)\n",
        "\n",
        "b=pd.Series(\n",
        "    {'MSE':round((rft_MSE),3),'RMSE':round((rft_RMSE),3),'R2_score':round((rft_r2),3),'Adjusted R2':round((rft_ar2),3)},\n",
        "     name='Ridge regression ')            \n",
        "\n",
        "test_df = test_df.append(b,ignore_index=False)"
      ],
      "metadata": {
        "id": "FfUDbO-0Vq9m"
      },
      "execution_count": null,
      "outputs": []
    },
    {
      "cell_type": "code",
      "execution_count": null,
      "metadata": {
        "id": "6Os4Wb2u61ba"
      },
      "outputs": [],
      "source": [
        "importances = rf_model.feature_importances_\n",
        "\n",
        "importance_dict = {'Feature' : list(X_train.columns),\n",
        "                   'Feature Importance' : importances}\n",
        "\n",
        "importance_df = pd.DataFrame(importance_dict)\n",
        "importance_df.sort_values(by=['Feature Importance'],ascending=False,inplace=True)\n",
        "importance_df"
      ]
    },
    {
      "cell_type": "code",
      "source": [
        "plt.figure(figsize=(15,10))\n",
        "plt.title('Features importace')\n",
        "sns.barplot(x='Feature',y=\"Feature Importance\",data=importance_df[:10])"
      ],
      "metadata": {
        "id": "8cmaE8DKHIL5"
      },
      "execution_count": null,
      "outputs": []
    },
    {
      "cell_type": "markdown",
      "source": [
        "###CatBoost Regressor"
      ],
      "metadata": {
        "id": "pAK1uULbfQFA"
      }
    },
    {
      "cell_type": "code",
      "source": [
        "#pip install catboost"
      ],
      "metadata": {
        "id": "BrmWidr4gVtj"
      },
      "execution_count": null,
      "outputs": []
    },
    {
      "cell_type": "code",
      "source": [
        "import catboost as cb\n",
        "\n",
        "params = {'iterations': [100,150],\n",
        "        'learning_rate': [0.01, 0.1],\n",
        "        'depth': [9,10],\n",
        "        'l2_leaf_reg': [5,7]}\n",
        "\n",
        "cbr = cb.CatBoostRegressor()\n",
        "cbr_grid = GridSearchCV(cbr, params, scoring='r2',verbose=2, cv=5)\n",
        "cbr_grid.fit(X_train, y_train)"
      ],
      "metadata": {
        "id": "uzw10ee3fW__"
      },
      "execution_count": null,
      "outputs": []
    },
    {
      "cell_type": "code",
      "source": [
        "print(cbr_grid.best_score_)\n",
        "print(cbr_grid.best_params_)"
      ],
      "metadata": {
        "colab": {
          "base_uri": "https://localhost:8080/"
        },
        "id": "oksh9MtgfW3W",
        "outputId": "d98cdb9a-30aa-46a9-bb70-0a1c2f708dcb"
      },
      "execution_count": null,
      "outputs": [
        {
          "output_type": "stream",
          "name": "stdout",
          "text": [
            "0.7490337927030396\n",
            "{'depth': 10, 'iterations': 150, 'l2_leaf_reg': 5, 'learning_rate': 0.1}\n"
          ]
        }
      ]
    },
    {
      "cell_type": "code",
      "source": [
        "cat_model = cbr_grid.best_estimator_"
      ],
      "metadata": {
        "id": "WWrtMv-afW0e"
      },
      "execution_count": null,
      "outputs": []
    },
    {
      "cell_type": "code",
      "source": [
        "y_pred_cb = cat_model.predict(X_test)\n",
        "y_pred_cb_train = cat_model.predict(X_train)"
      ],
      "metadata": {
        "id": "elHr_hwjfWxv"
      },
      "execution_count": null,
      "outputs": []
    },
    {
      "cell_type": "code",
      "source": [
        "# Training metrics\n",
        "cb_MSE  = mean_squared_error(y_train, y_pred_cb_train)\n",
        "print(\"Train MSE :\" , cb_MSE)\n",
        "\n",
        "cb_RMSE = np.sqrt(cb_MSE)\n",
        "print(\"Train RMSE :\" ,cb_RMSE)\n",
        "\n",
        "cb_r2 = r2_score(y_train, y_pred_cb_train)\n",
        "print(\"Train R2 :\" ,cb_r2)\n",
        "\n",
        "cb_ar2 = 1-(1-r2_score((y_train), (y_pred_cb_train)))*((X_train.shape[0]-1)/(X_train.shape[0]-X_train.shape[1]-1))\n",
        "print(\"Train Adjusted R2 : \",cb_ar2)"
      ],
      "metadata": {
        "colab": {
          "base_uri": "https://localhost:8080/"
        },
        "id": "3ecfhGrifWuu",
        "outputId": "1cc804e5-9649-414d-ace0-f8bfb1f43edf"
      },
      "execution_count": null,
      "outputs": [
        {
          "output_type": "stream",
          "name": "stdout",
          "text": [
            "Train MSE : 0.02537573020631267\n",
            "Train RMSE : 0.1592976151934255\n",
            "Train R2 : 0.7538787888455403\n",
            "Train Adjusted R2 :  0.7538690639034688\n"
          ]
        }
      ]
    },
    {
      "cell_type": "code",
      "source": [
        "# Testing metrics\n",
        "cbt_MSE  = mean_squared_error(y_test, y_pred_cb)\n",
        "print(\"Train MSE :\" , cbt_MSE)\n",
        "\n",
        "cbt_RMSE = np.sqrt(cbt_MSE)\n",
        "print(\"Train RMSE :\" ,cbt_RMSE)\n",
        "\n",
        "cbt_r2 = r2_score(y_test, y_pred_cb)\n",
        "print(\"Train R2 :\" ,cbt_r2)\n",
        "\n",
        "cbt_ar2 = 1-(1-r2_score((y_test), (y_pred_cb)))*((X_train.shape[0]-1)/(X_train.shape[0]-X_train.shape[1]-1))\n",
        "print(\"Train Adjusted R2 : \",cbt_ar2)"
      ],
      "metadata": {
        "colab": {
          "base_uri": "https://localhost:8080/"
        },
        "id": "0HnxOsRfFacU",
        "outputId": "056e78fd-6a9d-4327-f66f-6452b57fcdf4"
      },
      "execution_count": null,
      "outputs": [
        {
          "output_type": "stream",
          "name": "stdout",
          "text": [
            "Train MSE : 0.028594564847447875\n",
            "Train RMSE : 0.1690992751239575\n",
            "Train R2 : 0.7212566158062704\n",
            "Train Adjusted R2 :  0.7212456018702859\n"
          ]
        }
      ]
    },
    {
      "cell_type": "code",
      "source": [
        "#Residual plot\n",
        "plt.scatter((y_test)-(y_pred_cb),(y_pred_cb))"
      ],
      "metadata": {
        "id": "5CJvtXcHxpLM"
      },
      "execution_count": null,
      "outputs": []
    },
    {
      "cell_type": "code",
      "source": [
        "# storing the traing and test set metrics for comparison\n",
        "a=pd.Series(\n",
        "    {'MSE':round((cb_MSE),3),'RMSE':round((cb_RMSE),3),'R2_score':round((cb_r2),3),'Adjusted R2':round((cb_ar2),3)},\n",
        "    name='Catboost regression ')\n",
        "\n",
        "training_df = training_df.append(a,ignore_index=False)\n",
        "\n",
        "b=pd.Series(\n",
        "    {'MSE':round((cbt_MSE),3),'RMSE':round((cbt_RMSE),3),'R2_score':round((cbt_r2),3),'Adjusted R2':round((cbt_ar2),3)},\n",
        "     name='Catboost regression ')            \n",
        "\n",
        "test_df = test_df.append(b,ignore_index=False)"
      ],
      "metadata": {
        "id": "rCBjtX-xFdzo"
      },
      "execution_count": null,
      "outputs": []
    },
    {
      "cell_type": "code",
      "source": [
        "importances = cat_model.feature_importances_\n",
        "\n",
        "importance_dict = {'Feature' : list(X_train.columns),\n",
        "                   'Feature Importance' : importances}\n",
        "\n",
        "importance_df = pd.DataFrame(importance_dict)\n",
        "importance_df.sort_values(by=['Feature Importance'],ascending=False,inplace=True)\n",
        "importance_df"
      ],
      "metadata": {
        "id": "hTEI1wBhEDiY"
      },
      "execution_count": null,
      "outputs": []
    },
    {
      "cell_type": "code",
      "source": [
        "importance_df.sort_values(by=['Feature Importance'],ascending=False,inplace=True)\n",
        "importance_df"
      ],
      "metadata": {
        "id": "e6hS0QjZFdu9"
      },
      "execution_count": null,
      "outputs": []
    },
    {
      "cell_type": "code",
      "source": [
        ""
      ],
      "metadata": {
        "id": "9PV5EieWmYzD"
      },
      "execution_count": null,
      "outputs": []
    },
    {
      "cell_type": "code",
      "source": [
        ""
      ],
      "metadata": {
        "id": "oBq96V99mYW7"
      },
      "execution_count": null,
      "outputs": []
    },
    {
      "cell_type": "markdown",
      "source": [
        "### CONCLUSION :\n",
        "\n",
        "\n",
        "\n",
        "\n",
        "\n",
        "\n",
        "In this project we covered various aspects of the Machine learning development cycle. We observed that the data exploration and variable analysis is a very important aspect of the whole cycle and should be done for thorough understanding of the data. We also cleaned the data while exploring as there were some outliers which should be treated before feature engineering. Further we did feature engineering to filter and gather only the optimal features which are more significant and covered most of the variance in the dataset. Then finally we trained the models on the optimum featureset to get the results\n",
        "\n",
        "\n",
        "\n",
        "\n",
        "\n",
        "\n",
        "\n",
        "\n",
        "\n",
        "\n",
        "\n",
        "\n",
        "\n",
        "\n",
        "\n",
        "\n",
        "\n",
        "\n",
        "\n"
      ],
      "metadata": {
        "id": "4i8mtxAAFbdw"
      }
    }
  ],
  "metadata": {
    "colab": {
      "collapsed_sections": [],
      "name": "NYC Taxi Time Prediction - Capstone Project.ipynb",
      "provenance": [],
      "include_colab_link": true
    },
    "kernelspec": {
      "display_name": "Python 3",
      "language": "python",
      "name": "python3"
    },
    "language_info": {
      "codemirror_mode": {
        "name": "ipython",
        "version": 3
      },
      "file_extension": ".py",
      "mimetype": "text/x-python",
      "name": "python",
      "nbconvert_exporter": "python",
      "pygments_lexer": "ipython3",
      "version": "3.6.6"
    },
    "accelerator": "GPU"
  },
  "nbformat": 4,
  "nbformat_minor": 0
}