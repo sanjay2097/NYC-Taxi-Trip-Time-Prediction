{
  "cells": [
    {
      "cell_type": "markdown",
      "metadata": {
        "id": "view-in-github",
        "colab_type": "text"
      },
      "source": [
        "<a href=\"https://colab.research.google.com/github/sanjay2097/NYC-Taxi-Trip-Time-Prediction/blob/main/NYC_Taxi_Time_Prediction_Capstone_Project.ipynb\" target=\"_parent\"><img src=\"https://colab.research.google.com/assets/colab-badge.svg\" alt=\"Open In Colab\"/></a>"
      ]
    },
    {
      "cell_type": "markdown",
      "metadata": {
        "id": "WWeU1f9bwqQq"
      },
      "source": [
        "## <b> Data Description </b>\n",
        "\n",
        "### The dataset is based on the 2016 NYC Yellow Cab trip record data made available in Big Query on Google Cloud Platform. The data was originally published by the NYC Taxi and Limousine Commission (TLC). The data was sampled and cleaned for the purposes of this project. Based on individual trip attributes, you should predict the duration of each trip in the test set.\n",
        "\n",
        "### <b>NYC Taxi Data.csv</b> - the training set (contains 1458644 trip records)\n",
        "\n",
        "\n",
        "### Data fields\n",
        "* #### id - a unique identifier for each trip\n",
        "* #### vendor_id - a code indicating the provider associated with the trip record\n",
        "* #### pickup_datetime - date and time when the meter was engaged\n",
        "* #### dropoff_datetime - date and time when the meter was disengaged\n",
        "* #### passenger_count - the number of passengers in the vehicle (driver entered value)\n",
        "* #### pickup_longitude - the longitude where the meter was engaged\n",
        "* #### pickup_latitude - the latitude where the meter was engaged\n",
        "* #### dropoff_longitude - the longitude where the meter was disengaged\n",
        "* #### dropoff_latitude - the latitude where the meter was disengaged\n",
        "* #### store_and_fwd_flag - This flag indicates whether the trip record was held in vehicle memory before sending to the vendor because the vehicle did not have a connection to the server - Y=store and forward; N=not a store and forward trip\n",
        "* #### trip_duration - duration of the trip in seconds"
      ]
    },
    {
      "cell_type": "markdown",
      "metadata": {
        "id": "cVbm2OdFsuD4"
      },
      "source": [
        "## **STEPS** \n",
        "### 1. Data Analysis\n",
        "### 2. Feature Engineering\n",
        "### 3. Feature Selection\n",
        "### 4. Model Building\n",
        "### 5. Model Validation & Selection\n"
      ]
    },
    {
      "cell_type": "code",
      "execution_count": null,
      "metadata": {
        "id": "dByMsuzT8Tnw"
      },
      "outputs": [],
      "source": [
        "import numpy as np\n",
        "import pandas as pd\n",
        "from numpy import math\n",
        "from datetime import datetime\n",
        "\n",
        "from sklearn.preprocessing import MinMaxScaler\n",
        "from sklearn.preprocessing import StandardScaler\n",
        "\n",
        "from sklearn.model_selection import train_test_split\n",
        "from sklearn.linear_model import LinearRegression\n",
        "from sklearn.linear_model import Ridge\n",
        "from sklearn.linear_model import Lasso\n",
        "from lightgbm import LGBMRegressor\n",
        "\n",
        "from sklearn.metrics import r2_score\n",
        "from sklearn.metrics import mean_squared_error\n",
        "\n",
        "\n",
        "from sklearn.model_selection import GridSearchCV\n",
        "from sklearn.model_selection import RandomizedSearchCV\n",
        "\n",
        "import seaborn as sns\n",
        "import folium\n",
        "import matplotlib.pyplot as plt\n",
        "%matplotlib inline\n",
        "\n",
        "import warnings\n",
        "warnings.filterwarnings(\"ignore\")"
      ]
    },
    {
      "cell_type": "markdown",
      "metadata": {
        "id": "9ooYWrlltJv5"
      },
      "source": [
        "### DATA ANALYSIS"
      ]
    },
    {
      "cell_type": "code",
      "execution_count": null,
      "metadata": {
        "colab": {
          "base_uri": "https://localhost:8080/"
        },
        "id": "rpLwawRhUwt1",
        "outputId": "4b07f845-524e-4ec6-b624-46b1fe8cc6e3"
      },
      "outputs": [
        {
          "output_type": "stream",
          "name": "stdout",
          "text": [
            "Mounted at /content/drive\n"
          ]
        }
      ],
      "source": [
        "# Mount drive\n",
        "from google.colab import drive\n",
        "drive.mount('/content/drive')"
      ]
    },
    {
      "cell_type": "code",
      "execution_count": null,
      "metadata": {
        "id": "2e49pgj-UuUq"
      },
      "outputs": [],
      "source": [
        "# Loading Data\n",
        "dataset = pd.read_csv('/content/drive/MyDrive/Colab Notebooks/NYC Taxi Data.csv')"
      ]
    },
    {
      "cell_type": "code",
      "execution_count": null,
      "metadata": {
        "id": "kE9590PcUuSs"
      },
      "outputs": [],
      "source": [
        "dataset.head()"
      ]
    },
    {
      "cell_type": "code",
      "execution_count": null,
      "metadata": {
        "id": "O8XZCt2pkHvV",
        "colab": {
          "base_uri": "https://localhost:8080/"
        },
        "outputId": "2811506e-55c7-4a6a-de20-20bd1778a939"
      },
      "outputs": [
        {
          "output_type": "execute_result",
          "data": {
            "text/plain": [
              "(1458644, 11)"
            ]
          },
          "metadata": {},
          "execution_count": 5
        }
      ],
      "source": [
        "dataset.shape"
      ]
    },
    {
      "cell_type": "markdown",
      "source": [
        "There are approx 1.46 million records in our dataset."
      ],
      "metadata": {
        "id": "_gXtryvLvoT3"
      }
    },
    {
      "cell_type": "code",
      "execution_count": null,
      "metadata": {
        "id": "TWo6pguitWFS"
      },
      "outputs": [],
      "source": [
        "dataset.describe()"
      ]
    },
    {
      "cell_type": "markdown",
      "source": [
        "From preliminary analysis using describe function we can see that there are anomalous values in passenger count and trip_duration that needs to be addressed later."
      ],
      "metadata": {
        "id": "Fzoia23oFOZy"
      }
    },
    {
      "cell_type": "code",
      "execution_count": null,
      "metadata": {
        "id": "CuKapoVPkYtM"
      },
      "outputs": [],
      "source": [
        "# Checking null values\n",
        "dataset.isnull().sum()"
      ]
    },
    {
      "cell_type": "code",
      "execution_count": null,
      "metadata": {
        "id": "S_jp3P5xkYmN",
        "colab": {
          "base_uri": "https://localhost:8080/"
        },
        "outputId": "2aa3dbec-515b-4fc2-e740-a2493462e4fd"
      },
      "outputs": [
        {
          "output_type": "execute_result",
          "data": {
            "text/plain": [
              "0"
            ]
          },
          "metadata": {},
          "execution_count": 8
        }
      ],
      "source": [
        "# Checking duplicated values\n",
        "dataset.duplicated().sum()"
      ]
    },
    {
      "cell_type": "markdown",
      "source": [
        "*There are no Null values and duplicated values in given dataset.*"
      ],
      "metadata": {
        "id": "gMdegtOh1bBk"
      }
    },
    {
      "cell_type": "code",
      "execution_count": null,
      "metadata": {
        "id": "7GvuDPfGTIrR"
      },
      "outputs": [],
      "source": [
        "# Copying data to new dataframe for further analysis\n",
        "df = dataset.copy()"
      ]
    },
    {
      "cell_type": "code",
      "source": [
        "# Lets look at the distribution plot of the features\n",
        "pos = 1\n",
        "fig = plt.figure(figsize=(18,26))\n",
        "for i in df.describe().columns:\n",
        "    ax = fig.add_subplot(6,2,pos)\n",
        "    pos = pos + 1\n",
        "    sns.distplot(df[i],ax=ax)"
      ],
      "metadata": {
        "id": "lFGJsk7PHDwT"
      },
      "execution_count": null,
      "outputs": []
    },
    {
      "cell_type": "markdown",
      "source": [
        "Inferences from distribution plot :\n",
        "\n",
        "1.There are two major vendors in NYC.\n",
        "\n",
        "2.Passenger count 1 has max distribution.\n",
        "\n",
        "3.Distribution of trip duration is highly skewed."
      ],
      "metadata": {
        "id": "Bwj9sAbOGVrz"
      }
    },
    {
      "cell_type": "markdown",
      "source": [
        "### Preliminary analysis of independent variables"
      ],
      "metadata": {
        "id": "1RV0Jrldt4_i"
      }
    },
    {
      "cell_type": "markdown",
      "source": [
        "#### Vendor ID"
      ],
      "metadata": {
        "id": "zsVzD1oq53tV"
      }
    },
    {
      "cell_type": "code",
      "execution_count": null,
      "metadata": {
        "id": "r0h-NG4nNual"
      },
      "outputs": [],
      "source": [
        "df['vendor_id'].value_counts().plot(kind='bar')\n",
        "plt.ylabel('Count')\n",
        "plt.xlabel('Vendor ID')"
      ]
    },
    {
      "cell_type": "markdown",
      "source": [
        "*Both the vendors seems to have almost equal market share. But Vendor 2 is evidently more famous among the population as per the above graph.*"
      ],
      "metadata": {
        "id": "YQvDxJ9awboK"
      }
    },
    {
      "cell_type": "markdown",
      "source": [
        "#### Datetime"
      ],
      "metadata": {
        "id": "ipBKvb95596T"
      }
    },
    {
      "cell_type": "code",
      "execution_count": null,
      "metadata": {
        "id": "NHxrqR8qShEH"
      },
      "outputs": [],
      "source": [
        "# Converting datetime datatype from object\n",
        "df['pickup_datetime'] = pd.to_datetime(df['pickup_datetime'])\n",
        "df['dropoff_datetime'] = pd.to_datetime(df['dropoff_datetime'])"
      ]
    },
    {
      "cell_type": "code",
      "execution_count": null,
      "metadata": {
        "id": "zHINnLbhUC_6"
      },
      "outputs": [],
      "source": [
        "# Adding new features month , day and hour from datetime\n",
        "df['hour'] = df['pickup_datetime'].dt.hour \n",
        "df['day'] = df.pickup_datetime.dt.day_name()\n",
        "df['month'] = df.pickup_datetime.dt.month_name()"
      ]
    },
    {
      "cell_type": "code",
      "execution_count": null,
      "metadata": {
        "id": "fWJ_9JcqUOcV"
      },
      "outputs": [],
      "source": [
        "# Analyzing month \n",
        "data=df['month']\n",
        "plt.figure(figsize=(8,5))\n",
        "sns.countplot(data, palette='rainbow')\n",
        "plt.show()"
      ]
    },
    {
      "cell_type": "markdown",
      "source": [
        "All the months are closely distributed with March being highest and January lowest."
      ],
      "metadata": {
        "id": "lZulBHBUIbHo"
      }
    },
    {
      "cell_type": "code",
      "execution_count": null,
      "metadata": {
        "id": "0MsqlxSo9eM5"
      },
      "outputs": [],
      "source": [
        "# Analyzing day\n",
        "data=df['day']\n",
        "plt.figure(figsize=(8,5))\n",
        "sns.countplot(data, palette='rainbow')\n",
        "plt.show()"
      ]
    },
    {
      "cell_type": "markdown",
      "source": [
        "We can see that Friday has the largest count of trips in dataset and Monday lowest."
      ],
      "metadata": {
        "id": "FxofzBzeIz-Z"
      }
    },
    {
      "cell_type": "code",
      "source": [
        "# Analyzing hour\n",
        "data=df['hour']\n",
        "plt.figure(figsize=(8,5))\n",
        "sns.countplot(data, palette='rainbow')\n",
        "plt.show()"
      ],
      "metadata": {
        "id": "3RY-dway7R8Y"
      },
      "execution_count": null,
      "outputs": []
    },
    {
      "cell_type": "markdown",
      "source": [
        "### Passanger Count"
      ],
      "metadata": {
        "id": "aA77aEtk9SHS"
      }
    },
    {
      "cell_type": "markdown",
      "source": [
        "Between 7 am to 3 pm the trip distributions are close to each other but increases from 5 pm to 10 pm and starts decreasing till 5 am."
      ],
      "metadata": {
        "id": "OQSHJqIZJGmL"
      }
    },
    {
      "cell_type": "code",
      "execution_count": null,
      "metadata": {
        "id": "0NKS77fcb1uk"
      },
      "outputs": [],
      "source": [
        "# Analyzing passanger count\n",
        "data=df['passenger_count']\n",
        "plt.figure(figsize=(8,5))\n",
        "sns.countplot(data, palette='rainbow')\n",
        "plt.show()"
      ]
    },
    {
      "cell_type": "markdown",
      "source": [
        "The passenger_count variable has a minimum value of 0 passengers. These observations are most likely errors and will need to be removed from the dataset.\n",
        "\n",
        "According to the NYC Taxi & Limousine Commission, the maximum number of people allowed in a yellow taxicab, by law, is 5 passengers and one child .The observations more than 6 are likely an error and will also need to be removed from the dataset."
      ],
      "metadata": {
        "id": "XelKEBLb9dhe"
      }
    },
    {
      "cell_type": "code",
      "execution_count": null,
      "metadata": {
        "id": "gGDhBtVWgwLx"
      },
      "outputs": [],
      "source": [
        "# Removing passenger count more than 6 \n",
        "df = df[(df['passenger_count']>0) & (df['passenger_count']<=6)]"
      ]
    },
    {
      "cell_type": "markdown",
      "source": [
        "###store_and_fwd_flag"
      ],
      "metadata": {
        "id": "4XJHkJAOSZ5N"
      }
    },
    {
      "cell_type": "code",
      "source": [
        "# analyzing trip data storing flag column\n",
        "df['store_and_fwd_flag'].value_counts()"
      ],
      "metadata": {
        "id": "mcP_BdsFSZUc"
      },
      "execution_count": null,
      "outputs": []
    },
    {
      "cell_type": "markdown",
      "source": [
        "Most of the trip records were not stored in vehicle memory before forwarding to the vendor because the vehicle did not have a direct connection to the server."
      ],
      "metadata": {
        "id": "oPDO1RwkSlFT"
      }
    },
    {
      "cell_type": "markdown",
      "source": [
        "#### Longitude and Latitude"
      ],
      "metadata": {
        "id": "xtj7zjvq9War"
      }
    },
    {
      "cell_type": "markdown",
      "source": [
        "Looking into it, the borders of NY City coordinates comes out to be:\n",
        "\n",
        "longitude = (-74.03, -73.77)  ,\n",
        "latitude = (40.63, 40.85)\n",
        "\n",
        "\n",
        "Any coordinates outside will be outliers."
      ],
      "metadata": {
        "id": "m2CLF5KleD43"
      }
    },
    {
      "cell_type": "code",
      "source": [
        "# Max and min values of lat and long in pickup and dropoff location\n",
        "print(np.min(df['pickup_longitude']), np.min(df['pickup_latitude']))\n",
        "print(np.max(df['pickup_longitude']), np.max(df['pickup_latitude']))\n",
        "\n",
        "print(np.min(df['dropoff_longitude']), np.min(df['dropoff_latitude']))\n",
        "print(np.max(df['dropoff_longitude']), np.max(df['dropoff_latitude']))"
      ],
      "metadata": {
        "id": "JyfO0DZXm6wq"
      },
      "execution_count": null,
      "outputs": []
    },
    {
      "cell_type": "code",
      "source": [
        "# Removing outlier coordinates\n",
        "west, south, east, north = -74.03, 40.63, -73.77, 40.85\n",
        "\n",
        "df = df[(df.pickup_latitude> south) & (df.pickup_latitude < north)]\n",
        "df = df[(df.dropoff_latitude> south) & (df.dropoff_latitude < north)]\n",
        "df = df[(df.pickup_longitude> west) & (df.pickup_longitude < east)]\n",
        "df = df[(df.dropoff_longitude> west) & (df.dropoff_longitude < east)]"
      ],
      "metadata": {
        "id": "QslfdY6CjUkC"
      },
      "execution_count": null,
      "outputs": []
    },
    {
      "cell_type": "code",
      "source": [
        "f, (ax1, ax2) = plt.subplots(1, 2, sharey=True,figsize=(18,10))\n",
        "\n",
        "df.plot(kind='scatter', x='pickup_longitude', y='pickup_latitude',\n",
        "                color='yellow', \n",
        "                s=.02, alpha=.6, subplots=True, ax=ax1)\n",
        "ax1.set_title(\"Pickups\")\n",
        "ax1.set_facecolor('black')\n",
        "\n",
        "df.plot(kind='scatter', x='dropoff_longitude', y='dropoff_latitude',\n",
        "                color='yellow', \n",
        "                s=.02, alpha=.6, subplots=True, ax=ax2)\n",
        "ax2.set_title(\"Dropoffs\")\n",
        "ax2.set_facecolor('black') "
      ],
      "metadata": {
        "id": "9gvA5KD_iXOy"
      },
      "execution_count": null,
      "outputs": []
    },
    {
      "cell_type": "code",
      "execution_count": null,
      "metadata": {
        "id": "BPLulvSNb1r9"
      },
      "outputs": [],
      "source": [
        "# Finding total diatance covered in each trip by making get_distance function\n",
        "from math import sin, cos, sqrt, atan2, radians\n",
        "\n",
        "def get_distance(lon_1, lon_2, lat_1, lat_2):\n",
        "\n",
        "    # approximate radius of earth in km\n",
        "    R = 6373.0\n",
        "\n",
        "    lat1 = radians(lat_1)\n",
        "    lon1 = radians(lon_1)\n",
        "    lat2 = radians(lat_2)\n",
        "    lon2 = radians(lon_2)\n",
        "\n",
        "    dlon = lon2 - lon1\n",
        "    dlat = lat2 - lat1\n",
        "\n",
        "    a = sin(dlat / 2)**2 + cos(lat1) * cos(lat2) * sin(dlon / 2)**2\n",
        "    c = 2 * atan2(sqrt(a), sqrt(1 - a))\n",
        "\n",
        "    distance = R * c\n",
        "\n",
        "    return distance"
      ]
    },
    {
      "cell_type": "code",
      "execution_count": null,
      "metadata": {
        "id": "Ognawyb3b1pO"
      },
      "outputs": [],
      "source": [
        "# Applying get_distance function to claculate each trip distance\n",
        "df[\"distance\"] = df.apply(lambda x: get_distance(x[\"pickup_longitude\"],x[\"dropoff_longitude\"],x[\"pickup_latitude\"],x[\"dropoff_latitude\"]),axis=1)"
      ]
    },
    {
      "cell_type": "markdown",
      "source": [
        "We will analyse distance column during feature engineering and selection."
      ],
      "metadata": {
        "id": "BqpEHAB6S51H"
      }
    }
  ],
  "metadata": {
    "colab": {
      "collapsed_sections": [],
      "name": "NYC Taxi Time Prediction - Capstone Project.ipynb",
      "provenance": [],
      "include_colab_link": true
    },
    "kernelspec": {
      "display_name": "Python 3",
      "language": "python",
      "name": "python3"
    },
    "language_info": {
      "codemirror_mode": {
        "name": "ipython",
        "version": 3
      },
      "file_extension": ".py",
      "mimetype": "text/x-python",
      "name": "python",
      "nbconvert_exporter": "python",
      "pygments_lexer": "ipython3",
      "version": "3.6.6"
    },
    "accelerator": "GPU"
  },
  "nbformat": 4,
  "nbformat_minor": 0
}